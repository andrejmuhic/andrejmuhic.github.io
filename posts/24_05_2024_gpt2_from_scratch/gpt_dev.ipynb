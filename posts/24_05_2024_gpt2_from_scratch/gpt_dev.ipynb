{
 "cells": [
  {
   "cell_type": "raw",
   "metadata": {
    "vscode": {
     "languageId": "raw"
    }
   },
   "source": [
    "---\n",
    "title: \"GPT and more from scratch with comments\"\n",
    "author: \"Andrej Muhic\"\n",
    "date: \"2024-05-28\"\n",
    "categories: [NLP, transformers, deep learning, code, analysis]\n",
    "image: \"multihead_transformer_with_learnable_positional_encoding.svg\"\n",
    "format:\n",
    "  html:\n",
    "    code-fold: true\n",
    "    code-tools: true\n",
    "---"
   ]
  },
  {
   "cell_type": "markdown",
   "metadata": {},
   "source": [
    "All original credits to\n",
    "companion notebook to the [Zero To Hero](https://karpathy.ai/zero-to-hero.html) video on GPT by Andrej Karpathy.\n",
    "Code was modified and heavily commented.\n",
    "\n",
    "## Transformer architecture\n",
    "This blog post is meant as a collection of resources to facilitate deeper and easier understanding of the transformer architecture \n",
    "and also the main deep learning concepts.\n",
    "Let us start with the graph of <b>multi head causal transformer with learnable positional embedding</b> with the following setup in\n",
    "the full blown annotated image of the multi head attention with learnable positional encoding:\n",
    "\n",
    "\n",
    "```python\n",
    "# hyperparameters\n",
    "batch_size = 1024 # how many independent sequences will we process in parallel?\n",
    "block_size = 128 # what is the maximum context length for predictions?\n",
    "n_embd = 64\n",
    "n_head = 2\n",
    "n_layer = 2\n",
    "max_iters = 10000\n",
    "device = 'cuda' if torch.cuda.is_available() else 'cpu'\n",
    "eval_iters = 200\n",
    "```\n",
    "\n",
    "<details>\n",
    "<summary>\n",
    "Creating a graph of the model\n",
    "</summary>\n",
    "```python\n",
    "from torchview import draw_graph\n",
    "import torchlens as tl\n",
    "from pathlib import Path\n",
    "\n",
    "#device='meta' -> no memory is consumed for visualization\n",
    "model = GPT2LanguageModel()\n",
    "m = model.to(device)\n",
    "#the number of parameters in the model\n",
    "print(sum(p.numel() for p in m.parameters()) / 1e6, 'M parameters')\n",
    "\n",
    "xb, yb = get_batch('train')\n",
    "print(xb.shape)\n",
    "print(yb.shape)\n",
    "model_graph = draw_graph(model, input_data=(xb, yb), depth=5, expand_nested=True, save_graph=False,\n",
    "                         directory=str(Path('~').expanduser()), device='cuda')\n",
    "print(model_graph)\n",
    "graph = model_graph.visual_graph\n",
    "format='svg'\n",
    "graph_svg = graph.pipe(format='svg').decode('utf-8') # convert to binary data\n",
    "file = str(Path('~').expanduser()) + '/multihead_transformer_with_learnable_positional_encoding.' + format\n",
    "print(file)\n",
    "with open(file, 'wt') as f:\n",
    "    f.write(graph_svg)\n",
    "```\n",
    "</details>\n",
    "\n",
    "![Multihead transformer with learnable positional encoding](multihead_transformer_with_learnable_positional_encoding.svg)\n",
    "\n",
    "\n",
    "If you can reason about the model only looking at the picture then you can skip most of the details and just dive in.\n",
    "The code tries to be well documented with plenty of the links to the resources that help to look at things from different perspective.\n",
    "If you are beginner in deep learning but have solid mathematical background I also provide collection of resources that can be helpful to get up to the speed quickly. I was using this mainly as scratchpad to note my ideas and questions over years. The view that I liked the most is transformers as GNN with additional positional encoding as I got attractive by nice symmetry, group and even categorical abstract motivation of the deep learning in general. I would like to also to point to [extrakt.AI](https://www.linkedin.com/company/extrakt-ai/posts/?feedView=all) for one nice use case in information extraction of  and specifically [Jan Rupnik](https://www.linkedin.com/in/jan-rupnik-90790a1/) and [AiLab@JSI](https://www.linkedin.com/in/ailab-at-jsi-3ab15937/?originalSubdomain=si) for several stimulating discussions. I also recommend checking [Soniox](https://www.linkedin.com/company/soniox/posts/?feedView=all) for interesting applications in the deeper understanding of the audio.\n",
    "\n",
    "\n",
    "## Cleaned up code resources\n",
    "For cleaned up code see Karpathy:\n",
    "\n",
    "- [minGPT](https://github.com/karpathy/minGPT/blob/master/mingpt/model.py) for python Pytorch version.\n",
    "- [nanoGPT](https://github.com/karpathy/nanoGPT)\n",
    "- [llm.c](https://github.com/karpathy/llm.c) for pure C implementation.\n",
    "\n",
    "\n",
    "- [llama2.c](https://github.com/karpathy/llama2.c) for llama inference in C.\n",
    "- [llama.cpp](https://github.com/ggerganov/llama.cpp) to have some fun locally.\n",
    "- <https://huggingface.co/docs/transformers/en/>\n",
    "\n",
    "## Key techiques so deep learning is easier to use\n",
    "- Adam/AdamW optimizer\n",
    "- [Transformers](https://arxiv.org/abs/1706.03762)\n",
    "- Residual connections\n",
    "- Dropout\n",
    "- Layer/batch normalization\n",
    "- Automatic differentiation improvements\n",
    "- Polished libraries that are easy to use, [PyTorch](https://pytorch.org/)\n",
    "- Hardware acceleration optimized for the architectures\n",
    "\n",
    "## Strict run time named dimension checking\n",
    "- <https://kidger.site/thoughts/jaxtyping/>\n",
    "- <https://docs.kidger.site/jaxtyping/api/array/>\n",
    "- <https://github.com/patrick-kidger/jaxtyping>\n",
    "- <https://github.com/agronholm/typeguard>\n",
    "\n",
    "## Tracking progress of your runs\n",
    "\n",
    "- <https://github.com/aimhubio/aim> free\n",
    "- <https://pytorch.org/tutorials/recipes/recipes/tensorboard_with_pytorch.html> free\n",
    "- <https://wandb.ai/site> paid\n",
    "\n",
    "## Optimization, AdamW state of the art\n",
    "- <https://www.ruder.io/optimizing-gradient-descent/#adam>\n",
    "- <https://iclr-blogposts.github.io/2023/blog/2023/adamw> as proximal operator\n",
    "- <https://arxiv.org/abs/2404.04454> Implicit Bias of AdamW: ℓ∞ Norm Constrained Optimization\n",
    "`optimizer = torch.optim.AdamW(model.parameters(), lr=learning_rate)`\n",
    "Adam is just using exponential weighted average of gradient and \"variance of gradients\", corrected for bias for starting at 0. \n",
    "AdamW adds a trick to do better incorporate L2 regularization for decay rate, best views as proximal operator in my opinion.\n",
    "\n",
    "### Troubles with regular techniques\n",
    "- Memory constraints even for Adam(W) we need to store two additional vectors thus we 3x our memory requirements.\n",
    "- Back stepping is not feasible for deep learning, too costly to store harder to parallelize!\n",
    "- <https://en.wikipedia.org/wiki/Limited-memory_BFGS> approximates inverse of Hessian implicitly and even this is too costly.\n",
    "- <https://en.wikipedia.org/wiki/Wolfe_conditions>\n",
    "- <https://en.wikipedia.org/wiki/Backtracking_line_search> more advanced step size\n",
    "\n",
    "## Visualizing the network\n",
    "- My personal favourite: <https://github.com/mert-kurttutan/torchview> nicer graph, device='meta' is buggy sometimes, use cuda or cpu.\n",
    "- Honourable mentions: <https://github.com/szagoruyko/pytorchviz>\n",
    "\n",
    "## Activations\n",
    "- <https://www.ai-contentlab.com/2023/03/swishglu-activation-function.html>\n",
    "- <https://pytorch.org/docs/stable/generated/torch.nn.SiLU.html>\n",
    "\n",
    "## Useful tricks\n",
    "### Einsum formulas for humans\n",
    "- <https://einops.rocks/api/einsum>\n",
    "\n",
    "### Broadcasting\n",
    "- <https://numpy.org/doc/stable/user/basics.broadcasting.html> My advice would be if you are not sure do manual broadcasting and test.\n",
    "- Strictly test dimenstions with something like jaxtyping\n",
    "\n",
    "### Sanity checks and data\n",
    "- Inspect your data before you start training\n",
    "- Overift on small piece of data using simplest possible model before trying to do something fancy\n",
    "- Getting better and more data will bring larger improvements than using superior model\n",
    "\n",
    "## NLP specific info\n",
    "\n",
    "### Tokenization\n",
    "- In practice one would use something like [Byte Pair Encoding](https://github.com/karpathy/minbpe) or [WordPiece, SentencePiece](https://huggingface.co/docs/transformers/en/tokenizer_summary)\n",
    "### Attention and geometric deep learning\n",
    "- Attention: <https://magazine.sebastianraschka.com/p/understanding-and-coding-self-attention>\n",
    "- [GNN](https://arxiv.org/abs/2301.08210) and [Geometric Deep Learning](https://geometricdeeplearning.com/lectures/)\n",
    "- Geometric Deep learning excites me as mathematician as it is a very nice way of infusing domain priors, symmetry, geometry of the problem\n",
    "\n",
    "### Alternative architectures and improvements\n",
    "- [Mamba](https://www.youtube.com/watch?v=e7TFEgq5xiY)\n",
    "- [Mamba with more details](https://www.oxen.ai/blog/mamba-linear-time-sequence-modeling-with-selective-state-spaces-arxiv-dives)\n",
    "- [Flash attention, hardware optimized attention](https://huggingface.co/docs/text-generation-inference/en/conceptual/flash_attention)\n",
    "\n",
    "### Embeddings\n",
    "- [Classical not relative but fixed embedding](https://kazemnejad.com/blog/transformer_architecture_positional_encoding/)\n",
    "- [RoPE - Rotary Positional Embedding](https://afterhoursresearch.hashnode.dev/rope-rotary-positional-embedding)\n",
    "- [Rotary embeddings](https://blog.eleuther.ai/rotary-embeddings/)\n",
    "\n",
    "### Various sources\n",
    "- How to influence bias of probabilities, [temperature using LogSumExp](https://en.wikipedia.org/wiki/LogSumExp) What happens when you divide logits by posite $\\texttt{Temp}$ and then do $\\texttt{softmax}.$ Temperature close to 0 is max in limit, one hot, Temp >> 1 in limit is random sampling.\n",
    "- [Understanding llama2](https://ai.plainenglish.io/understanding-llama2-kv-cache-grouped-query-attention-rotary-embedding-and-more-c17e5f49a6d7)\n",
    "- [Forward and reverse KL divergence](https://agustinus.kristia.de/techblog/2016/12/21/forward-reverse-kl/)"
   ]
  },
  {
   "cell_type": "markdown",
   "metadata": {},
   "source": [
    "## Stricter typing"
   ]
  },
  {
   "cell_type": "code",
   "execution_count": 1,
   "metadata": {
    "ExecuteTime": {
     "end_time": "2024-05-27T19:11:30.229707Z",
     "start_time": "2024-05-27T19:11:28.486745Z"
    }
   },
   "outputs": [],
   "source": [
    "# Let us do some stricter typing\n",
    "%config Completer.use_jedi = False\n",
    "# from sklearn.model_selection import train_test_split\n",
    "import typing\n",
    "from typing import TYPE_CHECKING, Any, Optional\n",
    "import torch\n",
    "\n",
    "# Strict run time dimension checking\n",
    "# https://kidger.site/thoughts/jaxtyping/\n",
    "# https://docs.kidger.site/jaxtyping/api/array/\n",
    "# https://github.com/patrick-kidger/jaxtyping\n",
    "# https://github.com/agronholm/typeguard\n",
    "\n",
    "# Tracking the progress: \n",
    "#                        https://github.com/aimhubio/aim\n",
    "#                        https://pytorch.org/tutorials/recipes/recipes/tensorboard_with_pytorch.html\n",
    "#                        https://wandb.ai/site\n",
    "\n",
    "# Something on order of distributions in cross entropy and KL\n",
    "# https://agustinus.kristia.de/techblog/2016/12/21/forward-reverse-kl/\n",
    "\n",
    "# Visualizing the network\n",
    "# https://github.com/szagoruyko/pytorchviz\n",
    "# https://github.com/mert-kurttutan/torchview nicer graph\n",
    "\n",
    "# Optimization, AdamW state of the art\n",
    "# https://www.ruder.io/optimizing-gradient-descent/#adam\n",
    "# https://iclr-blogposts.github.io/2023/blog/2023/adamw/ as proximal operator\n",
    "# https://arxiv.org/abs/2404.04454 Implicit Bias of AdamW: ℓ∞ Norm Constrained Optimization\n",
    "# optimizer = torch.optim.AdamW(model.parameters(), lr=learning_rate)\n",
    "# exponential weighted average of gradient and \"variance of gradients\", corrected for bias for starting at 0 \n",
    "# +  a trick to do better than L2 for decay rate\n",
    "# Back stepping\n",
    "# Not feasible for deep learning, too costly to store harder to parallelize!\n",
    "# https://en.wikipedia.org/wiki/Limited-memory_BFGS approximates inverse of Hessian implicitly and even this is too costly\n",
    "# https://en.wikipedia.org/wiki/Wolfe_conditions\n",
    "# https://en.wikipedia.org/wiki/Backtracking_line_search more advanced step size\n",
    "\n",
    "# Activations\n",
    "# https://www.ai-contentlab.com/2023/03/swishglu-activation-function.html\n",
    "# https://pytorch.org/docs/stable/generated/torch.nn.SiLU.html\n",
    "\n",
    "# Einsum formulas for human, thanks for the hint guys!\n",
    "# https://einops.rocks/api/einsum/\n",
    "\n",
    "# Broadcasting\n",
    "# https://numpy.org/doc/stable/user/basics.broadcasting.html My advice would be if you are not sure do manual broadcasting and test.\n",
    "# Strictly test dimenstions with something like jaxtyping\n",
    "\n",
    "# key enabling techiques that made deep learning more easy to work with\n",
    "# - adam/adamw optimizer\n",
    "# - residual connections\n",
    "# - dropout\n",
    "# - layer/batch normalization\n",
    "# - automatic differentiation\n",
    "\n",
    "from jaxtyping import Float, Int64\n",
    "\n",
    "Array: typing.TypeAlias = torch.Tensor\n",
    "Long: typing.TypeAlias = Int64"
   ]
  },
  {
   "cell_type": "markdown",
   "metadata": {},
   "source": [
    "## Loading the data"
   ]
  },
  {
   "cell_type": "code",
   "execution_count": 2,
   "metadata": {
    "ExecuteTime": {
     "end_time": "2024-04-18T21:03:12.945313Z",
     "start_time": "2024-04-18T21:03:12.169198Z"
    },
    "colab": {
     "base_uri": "https://localhost:8080/"
    },
    "id": "h5hjCcLDr2WC",
    "outputId": "ccc60f0c-fd78-4dbe-8598-0512d1036aad"
   },
   "outputs": [],
   "source": [
    "# We always start with a dataset to train on. Let's download the tiny shakespeare dataset\n",
    "from pathlib import Path\n",
    "save_path = Path('~').expanduser() / f'.cache/input.txt'\n",
    "if not save_path.exists():\n",
    "    !wget https://raw.githubusercontent.com/karpathy/char-rnn/master/data/tinyshakespeare/input.txt -O {save_path}"
   ]
  },
  {
   "cell_type": "markdown",
   "metadata": {},
   "source": [
    "## Inspecting the data"
   ]
  },
  {
   "cell_type": "code",
   "execution_count": 3,
   "metadata": {
    "ExecuteTime": {
     "end_time": "2024-04-18T21:03:14.363452Z",
     "start_time": "2024-04-18T21:03:14.356350Z"
    },
    "id": "O6medjfRsLD9"
   },
   "outputs": [],
   "source": [
    "# read it in to inspect it\n",
    "with save_path.open('r', encoding='utf-8') as f:\n",
    "    text = f.read()"
   ]
  },
  {
   "cell_type": "code",
   "execution_count": 4,
   "metadata": {
    "ExecuteTime": {
     "end_time": "2024-04-18T21:03:15.359789Z",
     "start_time": "2024-04-18T21:03:15.353664Z"
    },
    "colab": {
     "base_uri": "https://localhost:8080/"
    },
    "id": "6xWI_VyAsN8F",
    "outputId": "ed819dd0-72e5-40a6-d2ed-928ff73bfda6"
   },
   "outputs": [
    {
     "name": "stdout",
     "output_type": "stream",
     "text": [
      "length of dataset in characters:  1115394\n"
     ]
    }
   ],
   "source": [
    "print(\"length of dataset in characters: \", len(text))"
   ]
  },
  {
   "cell_type": "code",
   "execution_count": 5,
   "metadata": {
    "ExecuteTime": {
     "end_time": "2024-04-18T21:03:15.872090Z",
     "start_time": "2024-04-18T21:03:15.867851Z"
    },
    "colab": {
     "base_uri": "https://localhost:8080/"
    },
    "id": "2c5V0FvqseE0",
    "outputId": "25ca7adc-b8c0-42d1-b08c-e0863c5c314e"
   },
   "outputs": [
    {
     "name": "stdout",
     "output_type": "stream",
     "text": [
      "First Citizen:\n",
      "Before we proceed any further, hear me speak.\n",
      "\n",
      "All:\n",
      "Speak, speak.\n",
      "\n",
      "First Citizen:\n",
      "You are all resolved rather to die than to famish?\n",
      "\n",
      "All:\n",
      "Resolved. resolved.\n",
      "\n",
      "First Citizen:\n",
      "First, you know Caius Marcius is chief enemy to the people.\n",
      "\n",
      "All:\n",
      "We know't, we know't.\n",
      "\n",
      "First Citizen:\n",
      "Let us kill him, and we'll have corn at our own price.\n",
      "Is't a verdict?\n",
      "\n",
      "All:\n",
      "No more talking on't; let it be done: away, away!\n",
      "\n",
      "Second Citizen:\n",
      "One word, good citizens.\n",
      "\n",
      "First Citizen:\n",
      "We are accounted poor citizens, the patricians good.\n",
      "What authority surfeits on would relieve us: if they\n",
      "would yield us but the superfluity, while it were\n",
      "wholesome, we might guess they relieved us humanely;\n",
      "but they think we are too dear: the leanness that\n",
      "afflicts us, the object of our misery, is as an\n",
      "inventory to particularise their abundance; our\n",
      "sufferance is a gain to them Let us revenge this with\n",
      "our pikes, ere we become rakes: for the gods know I\n",
      "speak this in hunger for bread, not in thirst for revenge.\n",
      "\n",
      "\n"
     ]
    }
   ],
   "source": [
    "# let's look at the first 1000 characters\n",
    "print(text[:1000])"
   ]
  },
  {
   "cell_type": "markdown",
   "metadata": {},
   "source": [
    "### Unique characters as tokens, 65 vocabulary size"
   ]
  },
  {
   "cell_type": "code",
   "execution_count": 6,
   "metadata": {
    "ExecuteTime": {
     "end_time": "2024-04-18T21:03:16.621405Z",
     "start_time": "2024-04-18T21:03:16.602273Z"
    },
    "colab": {
     "base_uri": "https://localhost:8080/"
    },
    "id": "0e-Rbyr8sfM8",
    "outputId": "f34e94a9-5b44-4cf3-885b-986731929109"
   },
   "outputs": [
    {
     "name": "stdout",
     "output_type": "stream",
     "text": [
      "\n",
      " !$&',-.3:;?ABCDEFGHIJKLMNOPQRSTUVWXYZabcdefghijklmnopqrstuvwxyz\n",
      "65\n"
     ]
    }
   ],
   "source": [
    "# here are all the unique characters that occur in this text\n",
    "chars: list[str] = sorted(list(set(text)))\n",
    "vocab_size = len(chars)\n",
    "print(''.join(chars))\n",
    "print(vocab_size)"
   ]
  },
  {
   "cell_type": "markdown",
   "metadata": {},
   "source": [
    "### Mapping from characters to integers"
   ]
  },
  {
   "cell_type": "code",
   "execution_count": 7,
   "metadata": {
    "ExecuteTime": {
     "end_time": "2024-04-18T21:03:20.037680Z",
     "start_time": "2024-04-18T21:03:20.028295Z"
    },
    "colab": {
     "base_uri": "https://localhost:8080/"
    },
    "id": "Yw1LKNCgwjj1",
    "outputId": "86fcc21c-2cf7-40d9-cd7b-b5a253da4459"
   },
   "outputs": [
    {
     "name": "stdout",
     "output_type": "stream",
     "text": [
      "[46, 47, 47, 1, 58, 46, 43, 56, 43]\n",
      "hii there\n"
     ]
    }
   ],
   "source": [
    "# create a mapping from characters to integers\n",
    "stoi: dict[str, int] = {ch: i for i, ch in enumerate(chars)}\n",
    "itos: dict[int, str] = {i: ch for i, ch in enumerate(chars)}\n",
    "encode = lambda s: [stoi[c] for c in s]  # encoder: take a string, output a list of integers\n",
    "decode = lambda l: ''.join([itos[i] for i in l])  # decoder: take a list of integers, output a string\n",
    "\n",
    "# In practice one would use something like [Byte Pair Encoding](https://github.com/karpathy/minbpe) or [WordPiece, SentencePiece](https://huggingface.co/docs/transformers/en/tokenizer_summary)\n",
    "\n",
    "print(encode(\"hii there\"))\n",
    "print(decode(encode(\"hii there\")))"
   ]
  },
  {
   "cell_type": "code",
   "execution_count": 8,
   "metadata": {
    "ExecuteTime": {
     "end_time": "2024-04-18T21:03:21.266498Z",
     "start_time": "2024-04-18T21:03:21.071632Z"
    },
    "colab": {
     "base_uri": "https://localhost:8080/"
    },
    "id": "YJb0OXPwzvqg",
    "outputId": "db7297cc-36a9-4fae-e941-e7bb9e0e91d1"
   },
   "outputs": [
    {
     "name": "stdout",
     "output_type": "stream",
     "text": [
      "torch.Size([1115394]) torch.int64\n",
      "tensor([18, 47, 56, 57, 58,  1, 15, 47, 58, 47, 64, 43, 52, 10,  0, 14, 43, 44,\n",
      "        53, 56, 43,  1, 61, 43,  1, 54, 56, 53, 41, 43, 43, 42,  1, 39, 52, 63,\n",
      "         1, 44, 59, 56, 58, 46, 43, 56,  6,  1, 46, 43, 39, 56,  1, 51, 43,  1,\n",
      "        57, 54, 43, 39, 49,  8,  0,  0, 13, 50, 50, 10,  0, 31, 54, 43, 39, 49,\n",
      "         6,  1, 57, 54, 43, 39, 49,  8,  0,  0, 18, 47, 56, 57, 58,  1, 15, 47,\n",
      "        58, 47, 64, 43, 52, 10,  0, 37, 53, 59,  1, 39, 56, 43,  1, 39, 50, 50,\n",
      "         1, 56, 43, 57, 53, 50, 60, 43, 42,  1, 56, 39, 58, 46, 43, 56,  1, 58,\n",
      "        53,  1, 42, 47, 43,  1, 58, 46, 39, 52,  1, 58, 53,  1, 44, 39, 51, 47,\n",
      "        57, 46, 12,  0,  0, 13, 50, 50, 10,  0, 30, 43, 57, 53, 50, 60, 43, 42,\n",
      "         8,  1, 56, 43, 57, 53, 50, 60, 43, 42,  8,  0,  0, 18, 47, 56, 57, 58,\n",
      "         1, 15, 47, 58, 47, 64, 43, 52, 10,  0, 18, 47, 56, 57, 58,  6,  1, 63,\n",
      "        53, 59,  1, 49, 52, 53, 61,  1, 15, 39, 47, 59, 57,  1, 25, 39, 56, 41,\n",
      "        47, 59, 57,  1, 47, 57,  1, 41, 46, 47, 43, 44,  1, 43, 52, 43, 51, 63,\n",
      "         1, 58, 53,  1, 58, 46, 43,  1, 54, 43, 53, 54, 50, 43,  8,  0,  0, 13,\n",
      "        50, 50, 10,  0, 35, 43,  1, 49, 52, 53, 61,  5, 58,  6,  1, 61, 43,  1,\n",
      "        49, 52, 53, 61,  5, 58,  8,  0,  0, 18, 47, 56, 57, 58,  1, 15, 47, 58,\n",
      "        47, 64, 43, 52, 10,  0, 24, 43, 58,  1, 59, 57,  1, 49, 47, 50, 50,  1,\n",
      "        46, 47, 51,  6,  1, 39, 52, 42,  1, 61, 43,  5, 50, 50,  1, 46, 39, 60,\n",
      "        43,  1, 41, 53, 56, 52,  1, 39, 58,  1, 53, 59, 56,  1, 53, 61, 52,  1,\n",
      "        54, 56, 47, 41, 43,  8,  0, 21, 57,  5, 58,  1, 39,  1, 60, 43, 56, 42,\n",
      "        47, 41, 58, 12,  0,  0, 13, 50, 50, 10,  0, 26, 53,  1, 51, 53, 56, 43,\n",
      "         1, 58, 39, 50, 49, 47, 52, 45,  1, 53, 52,  5, 58, 11,  1, 50, 43, 58,\n",
      "         1, 47, 58,  1, 40, 43,  1, 42, 53, 52, 43, 10,  1, 39, 61, 39, 63,  6,\n",
      "         1, 39, 61, 39, 63,  2,  0,  0, 31, 43, 41, 53, 52, 42,  1, 15, 47, 58,\n",
      "        47, 64, 43, 52, 10,  0, 27, 52, 43,  1, 61, 53, 56, 42,  6,  1, 45, 53,\n",
      "        53, 42,  1, 41, 47, 58, 47, 64, 43, 52, 57,  8,  0,  0, 18, 47, 56, 57,\n",
      "        58,  1, 15, 47, 58, 47, 64, 43, 52, 10,  0, 35, 43,  1, 39, 56, 43,  1,\n",
      "        39, 41, 41, 53, 59, 52, 58, 43, 42,  1, 54, 53, 53, 56,  1, 41, 47, 58,\n",
      "        47, 64, 43, 52, 57,  6,  1, 58, 46, 43,  1, 54, 39, 58, 56, 47, 41, 47,\n",
      "        39, 52, 57,  1, 45, 53, 53, 42,  8,  0, 35, 46, 39, 58,  1, 39, 59, 58,\n",
      "        46, 53, 56, 47, 58, 63,  1, 57, 59, 56, 44, 43, 47, 58, 57,  1, 53, 52,\n",
      "         1, 61, 53, 59, 50, 42,  1, 56, 43, 50, 47, 43, 60, 43,  1, 59, 57, 10,\n",
      "         1, 47, 44,  1, 58, 46, 43, 63,  0, 61, 53, 59, 50, 42,  1, 63, 47, 43,\n",
      "        50, 42,  1, 59, 57,  1, 40, 59, 58,  1, 58, 46, 43,  1, 57, 59, 54, 43,\n",
      "        56, 44, 50, 59, 47, 58, 63,  6,  1, 61, 46, 47, 50, 43,  1, 47, 58,  1,\n",
      "        61, 43, 56, 43,  0, 61, 46, 53, 50, 43, 57, 53, 51, 43,  6,  1, 61, 43,\n",
      "         1, 51, 47, 45, 46, 58,  1, 45, 59, 43, 57, 57,  1, 58, 46, 43, 63,  1,\n",
      "        56, 43, 50, 47, 43, 60, 43, 42,  1, 59, 57,  1, 46, 59, 51, 39, 52, 43,\n",
      "        50, 63, 11,  0, 40, 59, 58,  1, 58, 46, 43, 63,  1, 58, 46, 47, 52, 49,\n",
      "         1, 61, 43,  1, 39, 56, 43,  1, 58, 53, 53,  1, 42, 43, 39, 56, 10,  1,\n",
      "        58, 46, 43,  1, 50, 43, 39, 52, 52, 43, 57, 57,  1, 58, 46, 39, 58,  0,\n",
      "        39, 44, 44, 50, 47, 41, 58, 57,  1, 59, 57,  6,  1, 58, 46, 43,  1, 53,\n",
      "        40, 48, 43, 41, 58,  1, 53, 44,  1, 53, 59, 56,  1, 51, 47, 57, 43, 56,\n",
      "        63,  6,  1, 47, 57,  1, 39, 57,  1, 39, 52,  0, 47, 52, 60, 43, 52, 58,\n",
      "        53, 56, 63,  1, 58, 53,  1, 54, 39, 56, 58, 47, 41, 59, 50, 39, 56, 47,\n",
      "        57, 43,  1, 58, 46, 43, 47, 56,  1, 39, 40, 59, 52, 42, 39, 52, 41, 43,\n",
      "        11,  1, 53, 59, 56,  0, 57, 59, 44, 44, 43, 56, 39, 52, 41, 43,  1, 47,\n",
      "        57,  1, 39,  1, 45, 39, 47, 52,  1, 58, 53,  1, 58, 46, 43, 51,  1, 24,\n",
      "        43, 58,  1, 59, 57,  1, 56, 43, 60, 43, 52, 45, 43,  1, 58, 46, 47, 57,\n",
      "         1, 61, 47, 58, 46,  0, 53, 59, 56,  1, 54, 47, 49, 43, 57,  6,  1, 43,\n",
      "        56, 43,  1, 61, 43,  1, 40, 43, 41, 53, 51, 43,  1, 56, 39, 49, 43, 57,\n",
      "        10,  1, 44, 53, 56,  1, 58, 46, 43,  1, 45, 53, 42, 57,  1, 49, 52, 53,\n",
      "        61,  1, 21,  0, 57, 54, 43, 39, 49,  1, 58, 46, 47, 57,  1, 47, 52,  1,\n",
      "        46, 59, 52, 45, 43, 56,  1, 44, 53, 56,  1, 40, 56, 43, 39, 42,  6,  1,\n",
      "        52, 53, 58,  1, 47, 52,  1, 58, 46, 47, 56, 57, 58,  1, 44, 53, 56,  1,\n",
      "        56, 43, 60, 43, 52, 45, 43,  8,  0,  0])\n"
     ]
    }
   ],
   "source": [
    "# let's now encode the entire text dataset and store it into a torch.Tensor\n",
    "import torch  # we use PyTorch: https://pytorch.org\n",
    "\n",
    "data = torch.tensor(encode(text), dtype=torch.int64)\n",
    "print(data.shape, data.dtype)\n",
    "print(data[:1000])  # the 1000 characters we looked at earier will to the GPT look like this"
   ]
  },
  {
   "cell_type": "markdown",
   "metadata": {},
   "source": [
    "### Train/validation split"
   ]
  },
  {
   "cell_type": "code",
   "execution_count": 9,
   "metadata": {
    "ExecuteTime": {
     "end_time": "2024-04-18T21:03:21.893448Z",
     "start_time": "2024-04-18T21:03:21.888138Z"
    },
    "id": "f_WIXqxz0lU5"
   },
   "outputs": [],
   "source": [
    "# Let's now split up the data into train and validation sets\n",
    "n = int(0.9 * len(data))  # first 90% will be train, rest val\n",
    "train_data = data[:n]\n",
    "val_data = data[n:]"
   ]
  },
  {
   "cell_type": "code",
   "execution_count": 10,
   "metadata": {
    "ExecuteTime": {
     "end_time": "2024-04-18T21:03:22.749280Z",
     "start_time": "2024-04-18T21:03:22.736514Z"
    },
    "colab": {
     "base_uri": "https://localhost:8080/"
    },
    "id": "TD5Bj8Y6IAD4",
    "outputId": "bf23c586-1d33-4af1-b63d-ce6f90b0a528"
   },
   "outputs": [
    {
     "data": {
      "text/plain": [
       "tensor([18, 47, 56, 57, 58,  1, 15, 47, 58])"
      ]
     },
     "execution_count": 10,
     "metadata": {},
     "output_type": "execute_result"
    }
   ],
   "source": [
    "block_size = 8\n",
    "# First block and the target\n",
    "train_data[:block_size + 1]"
   ]
  },
  {
   "cell_type": "code",
   "execution_count": 11,
   "metadata": {
    "ExecuteTime": {
     "end_time": "2024-04-18T21:03:23.346539Z",
     "start_time": "2024-04-18T21:03:23.337420Z"
    },
    "colab": {
     "base_uri": "https://localhost:8080/"
    },
    "id": "9HXDe8vGJCEn",
    "outputId": "588663aa-1de5-4ef7-aba0-4a96fe828353"
   },
   "outputs": [
    {
     "name": "stdout",
     "output_type": "stream",
     "text": [
      "when input is tensor([18]) the target: 47\n",
      "when input is tensor([18, 47]) the target: 56\n",
      "when input is tensor([18, 47, 56]) the target: 57\n",
      "when input is tensor([18, 47, 56, 57]) the target: 58\n",
      "when input is tensor([18, 47, 56, 57, 58]) the target: 1\n",
      "when input is tensor([18, 47, 56, 57, 58,  1]) the target: 15\n",
      "when input is tensor([18, 47, 56, 57, 58,  1, 15]) the target: 47\n",
      "when input is tensor([18, 47, 56, 57, 58,  1, 15, 47]) the target: 58\n"
     ]
    }
   ],
   "source": [
    "# This is what we want to learn for max_context_size = block_size\n",
    "# It is important that we train also for shorter sequences than block_size\n",
    "# When creating batches in practice we could need padding token and if pad left or right!\n",
    "# Also how to shuffle if we need to if data does not fit in memory: https://blog.janestreet.com/how-to-shuffle-a-big-dataset/\n",
    "x = train_data[:block_size]\n",
    "y = train_data[1:block_size + 1]\n",
    "for t in range(block_size):\n",
    "    context = x[:t + 1]\n",
    "    target = y[t]\n",
    "    print(f\"when input is {context} the target: {target}\")"
   ]
  },
  {
   "cell_type": "markdown",
   "metadata": {},
   "source": [
    "### Batch generation"
   ]
  },
  {
   "cell_type": "code",
   "execution_count": 12,
   "metadata": {
    "ExecuteTime": {
     "end_time": "2024-04-18T21:03:24.199559Z",
     "start_time": "2024-04-18T21:03:24.160058Z"
    },
    "colab": {
     "base_uri": "https://localhost:8080/"
    },
    "id": "Q3k1Czf7LuA9",
    "outputId": "4ea8e8a0-443c-49bb-b3bf-ba36e1712999"
   },
   "outputs": [
    {
     "name": "stdout",
     "output_type": "stream",
     "text": [
      "inputs:\n",
      "torch.Size([4, 8])\n",
      "tensor([[24, 43, 58,  5, 57,  1, 46, 43],\n",
      "        [44, 53, 56,  1, 58, 46, 39, 58],\n",
      "        [52, 58,  1, 58, 46, 39, 58,  1],\n",
      "        [25, 17, 27, 10,  0, 21,  1, 54]])\n",
      "targets:\n",
      "torch.Size([4, 8])\n",
      "tensor([[43, 58,  5, 57,  1, 46, 43, 39],\n",
      "        [53, 56,  1, 58, 46, 39, 58,  1],\n",
      "        [58,  1, 58, 46, 39, 58,  1, 46],\n",
      "        [17, 27, 10,  0, 21,  1, 54, 39]])\n",
      "----\n",
      "when input is [24] the target: 43\n",
      "when input is [24, 43] the target: 58\n",
      "when input is [24, 43, 58] the target: 5\n",
      "when input is [24, 43, 58, 5] the target: 57\n",
      "when input is [24, 43, 58, 5, 57] the target: 1\n",
      "when input is [24, 43, 58, 5, 57, 1] the target: 46\n",
      "when input is [24, 43, 58, 5, 57, 1, 46] the target: 43\n",
      "when input is [24, 43, 58, 5, 57, 1, 46, 43] the target: 39\n",
      "when input is [44] the target: 53\n",
      "when input is [44, 53] the target: 56\n",
      "when input is [44, 53, 56] the target: 1\n",
      "when input is [44, 53, 56, 1] the target: 58\n",
      "when input is [44, 53, 56, 1, 58] the target: 46\n",
      "when input is [44, 53, 56, 1, 58, 46] the target: 39\n",
      "when input is [44, 53, 56, 1, 58, 46, 39] the target: 58\n",
      "when input is [44, 53, 56, 1, 58, 46, 39, 58] the target: 1\n",
      "when input is [52] the target: 58\n",
      "when input is [52, 58] the target: 1\n",
      "when input is [52, 58, 1] the target: 58\n",
      "when input is [52, 58, 1, 58] the target: 46\n",
      "when input is [52, 58, 1, 58, 46] the target: 39\n",
      "when input is [52, 58, 1, 58, 46, 39] the target: 58\n",
      "when input is [52, 58, 1, 58, 46, 39, 58] the target: 1\n",
      "when input is [52, 58, 1, 58, 46, 39, 58, 1] the target: 46\n",
      "when input is [25] the target: 17\n",
      "when input is [25, 17] the target: 27\n",
      "when input is [25, 17, 27] the target: 10\n",
      "when input is [25, 17, 27, 10] the target: 0\n",
      "when input is [25, 17, 27, 10, 0] the target: 21\n",
      "when input is [25, 17, 27, 10, 0, 21] the target: 1\n",
      "when input is [25, 17, 27, 10, 0, 21, 1] the target: 54\n",
      "when input is [25, 17, 27, 10, 0, 21, 1, 54] the target: 39\n"
     ]
    }
   ],
   "source": [
    "torch.manual_seed(1337)\n",
    "batch_size = 4  # how many independent sequences will we process in parallel?\n",
    "block_size = 8  # what is the maximum context length for predictions?\n",
    "\n",
    "\n",
    "def get_batch(split_kind: str) -> tuple[Int64[Array, \"n_batches block_size\"], Int64[Array, \"n_batches block_size\"]]:\n",
    "    # generate a small batch of data of inputs x and targets y\n",
    "    data = train_data if split_kind == 'train' else val_data\n",
    "    # Random starting indices of blocks, notice that blocks can overlap\n",
    "    # To do something like this for real: \n",
    "    ix = torch.randint(len(data) - block_size, (batch_size,))\n",
    "    x = torch.stack([data[i:i + block_size] for i in ix])\n",
    "    y = torch.stack([data[i + 1:i + block_size + 1] for i in ix])\n",
    "    return x, y\n",
    "\n",
    "\n",
    "xb, yb = get_batch('train')\n",
    "print('inputs:')\n",
    "print(xb.shape)\n",
    "print(xb)\n",
    "print('targets:')\n",
    "print(yb.shape)\n",
    "print(yb)\n",
    "\n",
    "print('----')\n",
    "\n",
    "for b in range(batch_size):  # batch dimension\n",
    "    for t in range(block_size):  # time dimension\n",
    "        context = xb[b, :t + 1]\n",
    "        target = yb[b, t]\n",
    "        print(f\"when input is {context.tolist()} the target: {target}\")"
   ]
  },
  {
   "cell_type": "code",
   "execution_count": 13,
   "metadata": {
    "ExecuteTime": {
     "end_time": "2024-04-18T21:03:24.800094Z",
     "start_time": "2024-04-18T21:03:24.795285Z"
    },
    "colab": {
     "base_uri": "https://localhost:8080/"
    },
    "id": "qpyyAeIzQjlO",
    "outputId": "a650f8dc-da81-400b-bc59-0a595487fdb9"
   },
   "outputs": [
    {
     "name": "stdout",
     "output_type": "stream",
     "text": [
      "tensor([[24, 43, 58,  5, 57,  1, 46, 43],\n",
      "        [44, 53, 56,  1, 58, 46, 39, 58],\n",
      "        [52, 58,  1, 58, 46, 39, 58,  1],\n",
      "        [25, 17, 27, 10,  0, 21,  1, 54]])\n"
     ]
    }
   ],
   "source": [
    "print(xb)  # our input to the transformer"
   ]
  },
  {
   "cell_type": "raw",
   "metadata": {},
   "source": [
    "## Bigram language model\n",
    "What is the most likely next token given the current token?\n",
    "We are targeting the probability or logit of the next token, given the current token."
   ]
  },
  {
   "cell_type": "code",
   "execution_count": 14,
   "metadata": {
    "ExecuteTime": {
     "end_time": "2024-04-18T21:03:25.254204Z",
     "start_time": "2024-04-18T21:03:25.212434Z"
    },
    "colab": {
     "base_uri": "https://localhost:8080/"
    },
    "id": "nql_1ER53oCf",
    "outputId": "5de90b1b-4603-428a-f571-fe4bd3c45436"
   },
   "outputs": [
    {
     "name": "stdout",
     "output_type": "stream",
     "text": [
      "torch.Size([32, 65])\n",
      "tensor(4.8786, grad_fn=<NllLossBackward0>)\n",
      "torch.Size([])\n",
      "\n",
      "Sr?qP-QWktXoL&jLDJgOLVz'RIoDqHdhsV&vLLxatjscMpwLERSPyao.qfzs$Ys$zF-w,;eEkzxjgCKFChs!iWW.ObzDnxA Ms$3\n"
     ]
    }
   ],
   "source": [
    "import torch\n",
    "import torch.nn as nn\n",
    "from torch.nn import functional as F\n",
    "\n",
    "torch.manual_seed(1337)\n",
    "\n",
    "\n",
    "class BigramLanguageModel(nn.Module):\n",
    "\n",
    "    def __init__(self, vocab_size: int):\n",
    "        super().__init__()\n",
    "        # each token directly reads off the logits for the next token from a lookup table\n",
    "        self.token_embedding_table = nn.Embedding(vocab_size, vocab_size)\n",
    "\n",
    "    def forward(self, idx: Long[torch.Tensor, \"batch_dim context_dim\"],\n",
    "                targets: Optional[Long[torch.Tensor, \"batch_dim context_dim\"]] = None):\n",
    "\n",
    "        # idx and targets are both (B,T) tensor of integers\n",
    "        logits: Long[torch.Tensor, \"batch_dim context_dim latent_dim\"] = self.token_embedding_table(\n",
    "            idx)  # (B,T,C=vocab_size)\n",
    "\n",
    "        if targets is None:\n",
    "            return logits, None\n",
    "        else:\n",
    "            # Note that here strictly speaking this does not fix batch size explicitly to B\n",
    "            B, T, C = logits.shape  # (B,T,C=vocab_size)\n",
    "            # Just a hack to avoid transposing, cross_entropy expects B x C x T in batched mode\n",
    "            # This converts into non batched mode\n",
    "            logits: Long[torch.Tensor, \"batch_dim*context_dim latent_dim\"] = logits.view(B * T, C)\n",
    "            targets: Long[torch.Tensor, \"batch_dim*context_dim\"] = targets.view(B * T)\n",
    "            # https://agustinus.kristia.de/techblog/2016/12/21/forward-reverse-kl/\n",
    "            loss: Float[torch.Tensor, \"\"] = F.cross_entropy(logits, targets)\n",
    "            return logits, loss\n",
    "\n",
    "    def generate(self, idx: Long[torch.Tensor, \"batch_dim context_dim\"], max_new_tokens: int):\n",
    "        # idx is (B, T) array of indices in the current context\n",
    "        for _ in range(max_new_tokens):\n",
    "            # get the predictions\n",
    "            logits, loss = self(idx)\n",
    "            # focus only on the last time step\n",
    "            logits = logits[:, -1, :]  # becomes (B, vocab_size)\n",
    "            # apply softmax to get probabilities\n",
    "            probs = F.softmax(logits, dim=-1)  # (B, vocab_size)\n",
    "            # sample from the distribution\n",
    "            idx_next = torch.multinomial(probs, num_samples=1)  # (B, 1)\n",
    "            # append sampled index to the running sequence\n",
    "            idx = torch.cat((idx, idx_next), dim=1)  # (B, T+1)\n",
    "            # What can go wrong here? and it is not handled at all\n",
    "        return idx\n",
    "\n",
    "\n",
    "m = BigramLanguageModel(vocab_size)\n",
    "logits, loss = m(xb, yb)\n",
    "print(logits.shape)\n",
    "print(loss)\n",
    "print(loss.shape)\n",
    "print(decode(m.generate(idx=torch.zeros((1, 1), dtype=torch.long), max_new_tokens=100)[0].tolist()))"
   ]
  },
  {
   "cell_type": "code",
   "execution_count": 15,
   "metadata": {},
   "outputs": [],
   "source": [
    "### Optimization using AdamW and cross entropy"
   ]
  },
  {
   "cell_type": "code",
   "execution_count": 16,
   "metadata": {
    "ExecuteTime": {
     "end_time": "2024-04-18T10:04:30.056752Z",
     "start_time": "2024-04-18T10:04:30.049343Z"
    },
    "id": "eTyJ8qAaDdiF"
   },
   "outputs": [],
   "source": [
    "# create a PyTorch optimizer\n",
    "optimizer = torch.optim.AdamW(m.parameters(), lr=1e-3)\n",
    "# weighted average of mean and \"variance\" of gradients +  a trick\n",
    "# Not feasible for deep learning, too costly to store harder to parallelize!\n",
    "# https://en.wikipedia.org/wiki/Limited-memory_BFGS approximates inverse of Hessian implicitly and even this is too costly\n",
    "# https://en.wikipedia.org/wiki/Wolfe_conditions\n",
    "# https://en.wikipedia.org/wiki/Backtracking_line_search more advanced step size"
   ]
  },
  {
   "cell_type": "code",
   "execution_count": 17,
   "metadata": {
    "ExecuteTime": {
     "end_time": "2024-04-18T10:04:31.157783Z",
     "start_time": "2024-04-18T10:04:30.847995Z"
    },
    "colab": {
     "base_uri": "https://localhost:8080/"
    },
    "id": "Hs4kI8YdEkQj",
    "outputId": "42ded55c-2983-4d91-c528-675b2edfa849"
   },
   "outputs": [
    {
     "name": "stdout",
     "output_type": "stream",
     "text": [
      "3.7218432426452637\n"
     ]
    }
   ],
   "source": [
    "batch_size = 32\n",
    "n_steps = 1_000\n",
    "for steps in range(n_steps):  # increase number of steps for good results...\n",
    "\n",
    "    # sample a batch of data\n",
    "    xb, yb = get_batch('train')\n",
    "\n",
    "    # evaluate the loss\n",
    "    logits, loss = m(xb, yb)\n",
    "    optimizer.zero_grad(set_to_none=True)\n",
    "    loss.backward()\n",
    "    optimizer.step()\n",
    "\n",
    "print(loss.item())"
   ]
  },
  {
   "cell_type": "code",
   "execution_count": 18,
   "metadata": {
    "ExecuteTime": {
     "end_time": "2024-04-18T10:04:31.993194Z",
     "start_time": "2024-04-18T10:04:31.909969Z"
    },
    "colab": {
     "base_uri": "https://localhost:8080/"
    },
    "id": "EcVIDWAZEtjN",
    "outputId": "0ad6f9d2-ad58-4498-a5f8-6f31407bb18b"
   },
   "outputs": [
    {
     "name": "stdout",
     "output_type": "stream",
     "text": [
      "\n",
      "olylvLLko'TMyatyIoconxad.?-tNSqYPsx&bF.oiR;BD$dZBMZv'K f bRSmIKptRPly:AUC&$zLK,qUEy&Ay;ZxjKVhmrdagC-bTop-QJe.H?x\n",
      "JGF&pwst-P sti.hlEsu;w:w a BG:tLhMk,epdhlay'sVzLq--ERwXUzDnq-bn czXxxI&V&Pynnl,s,Ioto!uvixwC-IJXElrgm C-.bcoCPJ\n",
      "IMphsevhO AL!-K:AIkpre,\n",
      "rPHEJUzV;P?uN3b?ohoRiBUENoV3B&jumNL;Aik,\n",
      "xf -IEKROn JSyYWW?n 'ay;:weO'AqVzPyoiBL? seAX3Dot,iy.xyIcf r!!ul-Koi:x pZrAQly'v'a;vEzN\n",
      "BwowKo'MBqF$PPFb\n",
      "CjYX3beT,lZ qdda!wfgmJP\n",
      "DUfNXmnQU mvcv?nlnQF$JUAAywNocd  bGSPyAlprNeQnq-GRSVUP.Ja!IBoDqfI&xJM AXEHV&DKvRS\n"
     ]
    }
   ],
   "source": [
    "print(decode(m.generate(idx=torch.zeros((1, 1), dtype=torch.long), max_new_tokens=500)[0].tolist()))"
   ]
  },
  {
   "cell_type": "markdown",
   "metadata": {
    "id": "XinV8nmAnmKN"
   },
   "source": [
    "## The mathematical formulation of (causal) self-attention"
   ]
  },
  {
   "cell_type": "code",
   "execution_count": 19,
   "metadata": {
    "ExecuteTime": {
     "end_time": "2024-04-18T10:04:34.287696Z",
     "start_time": "2024-04-18T10:04:34.274350Z"
    },
    "colab": {
     "base_uri": "https://localhost:8080/"
    },
    "id": "tukiH-NbRBhA",
    "outputId": "d981f6d4-ac08-4ec2-8284-82f5fa1e0815"
   },
   "outputs": [
    {
     "name": "stdout",
     "output_type": "stream",
     "text": [
      "a=\n",
      "tensor([[1.0000, 0.0000, 0.0000],\n",
      "        [0.5000, 0.5000, 0.0000],\n",
      "        [0.3333, 0.3333, 0.3333]])\n",
      "--\n",
      "b=\n",
      "tensor([[2., 7.],\n",
      "        [6., 4.],\n",
      "        [6., 5.]])\n",
      "--\n",
      "c=\n",
      "tensor([[2.0000, 7.0000],\n",
      "        [4.0000, 5.5000],\n",
      "        [4.6667, 5.3333]])\n"
     ]
    }
   ],
   "source": [
    "# toy example illustrating how matrix multiplication can be used for a \"weighted aggregation\"\n",
    "torch.manual_seed(42)\n",
    "# Causal attention does not take into account future information\n",
    "a = torch.tril(torch.ones(3, 3))\n",
    "a = a / torch.sum(a, 1, keepdim=True)\n",
    "b = torch.randint(0, 10, (3, 2)).float()\n",
    "c = a @ b\n",
    "print('a=')\n",
    "print(a)\n",
    "print('--')\n",
    "print('b=')\n",
    "print(b)\n",
    "print('--')\n",
    "print('c=')\n",
    "print(c)"
   ]
  },
  {
   "cell_type": "code",
   "execution_count": 20,
   "metadata": {
    "ExecuteTime": {
     "end_time": "2024-04-18T10:04:35.757818Z",
     "start_time": "2024-04-18T10:04:35.750440Z"
    },
    "colab": {
     "base_uri": "https://localhost:8080/"
    },
    "id": "Hs_E24uRE8kr",
    "outputId": "8bf3ff5f-565e-48b8-de8e-7272706c8e12"
   },
   "outputs": [
    {
     "data": {
      "text/plain": [
       "torch.Size([4, 8, 2])"
      ]
     },
     "execution_count": 20,
     "metadata": {},
     "output_type": "execute_result"
    }
   ],
   "source": [
    "# consider the following toy example:\n",
    "\n",
    "torch.manual_seed(1337)\n",
    "B, T, C = 4, 8, 2  # batch, time, channels\n",
    "x = torch.randn(B, T, C)\n",
    "x.shape"
   ]
  },
  {
   "cell_type": "markdown",
   "metadata": {},
   "source": [
    "### Manual aggregation"
   ]
  },
  {
   "cell_type": "code",
   "execution_count": 21,
   "metadata": {
    "ExecuteTime": {
     "end_time": "2024-04-18T10:04:37.597716Z",
     "start_time": "2024-04-18T10:04:37.589303Z"
    },
    "id": "86NuXX0fn7ps"
   },
   "outputs": [],
   "source": [
    "# We want $x[b,t] = mean_{i<=t} x[b,i]$\n",
    "xbow = torch.zeros((B, T, C))\n",
    "for b in range(B):\n",
    "    for t in range(T):\n",
    "        xprev = x[b, :t + 1]  # (t,C)\n",
    "        xbow[b, t] = torch.mean(xprev, 0)"
   ]
  },
  {
   "cell_type": "markdown",
   "metadata": {},
   "source": [
    "### Matrix multiply for weighted aggregation"
   ]
  },
  {
   "cell_type": "code",
   "execution_count": 22,
   "metadata": {
    "ExecuteTime": {
     "end_time": "2024-04-18T10:04:38.549976Z",
     "start_time": "2024-04-18T10:04:38.543326Z"
    },
    "colab": {
     "base_uri": "https://localhost:8080/"
    },
    "id": "yhdOAd6-wXkZ",
    "outputId": "eaf6ab61-dff1-4bb7-e623-47f692bad5f9"
   },
   "outputs": [
    {
     "data": {
      "text/plain": [
       "True"
      ]
     },
     "execution_count": 22,
     "metadata": {},
     "output_type": "execute_result"
    }
   ],
   "source": [
    "# version 2: using matrix multiply for a weighted aggregation\n",
    "wei = torch.tril(torch.ones(T, T))\n",
    "wei = wei / wei.sum(1, keepdim=True)\n",
    "xbow2 = wei @ x  # (B, T, T) @ (B, T, C) ----> (B, T, C)\n",
    "# Numerical instability and float32 only, need to set lower relative accuracy\n",
    "torch.allclose(xbow, xbow2, 1e-4)"
   ]
  },
  {
   "cell_type": "code",
   "execution_count": 23,
   "metadata": {},
   "outputs": [],
   "source": [
    "### Softmax for weighted aggregation"
   ]
  },
  {
   "cell_type": "code",
   "execution_count": 24,
   "metadata": {
    "ExecuteTime": {
     "end_time": "2024-04-18T10:04:39.799510Z",
     "start_time": "2024-04-18T10:04:39.789420Z"
    },
    "colab": {
     "base_uri": "https://localhost:8080/"
    },
    "id": "wOURrfG-ysoL",
    "outputId": "080b500d-8110-4602-fcef-7d6f2ebfc6bc"
   },
   "outputs": [
    {
     "data": {
      "text/plain": [
       "True"
      ]
     },
     "execution_count": 24,
     "metadata": {},
     "output_type": "execute_result"
    }
   ],
   "source": [
    "# version 3: use Softmax\n",
    "tril = torch.tril(torch.ones(T, T))\n",
    "wei = torch.zeros((T, T))\n",
    "# This seems strange at first glance but exp(-inf) = 0 and it is well defined, otherwise training would get broken constantly\n",
    "wei = wei.masked_fill(tril == 0, float('-inf'))\n",
    "wei = F.softmax(wei, dim=-1)\n",
    "xbow3 = wei @ x\n",
    "# Numerical instability and float32 only, need to set lower relative accuracy\n",
    "torch.allclose(xbow, xbow3, 1e-4)"
   ]
  },
  {
   "cell_type": "markdown",
   "metadata": {},
   "source": [
    "### Self attention\n",
    "$$\\texttt{Attention}(Q, K, V) = \\texttt{softmax}(\\frac{QK^T}{\\sqrt{d_k}})V,$$\n",
    "where $\\sqrt{d_k}$ is the dimension of the key vector $k$ and query vector $q$.\n",
    "The causal version can only take into account current and past tokens se we need to mask all future token inputs so that they not influence the prediction of the next token. This can be accomplished by triangular mask.\n",
    "\n",
    "### Multi head attention\n",
    "$$\\texttt{MultiHead}(Q, K, V) = \\texttt{Concat}(\\texttt{head}_1, ..., \\texttt{head}_h)W^O,$$\n",
    "where\n",
    "$$\\texttt{head}_i = \\texttt{Attention}(Q W^Q_i, K W^K_i, V W^V_i).$$\n",
    "\n",
    "Modifed from [ML equations in latex](https://blmoistawinde.github.io/ml_equations_latex/).\n",
    "As a note, the vectors are rows and not columns like in Matlab."
   ]
  },
  {
   "cell_type": "code",
   "execution_count": 25,
   "metadata": {
    "ExecuteTime": {
     "end_time": "2024-04-18T10:04:40.749584Z",
     "start_time": "2024-04-18T10:04:40.734139Z"
    },
    "colab": {
     "base_uri": "https://localhost:8080/"
    },
    "id": "EDarxEWIRMKq",
    "outputId": "07b587dd-a91c-4bb0-d7f1-e247cd5dacb5"
   },
   "outputs": [
    {
     "data": {
      "text/plain": [
       "torch.Size([4, 8, 16])"
      ]
     },
     "execution_count": 25,
     "metadata": {},
     "output_type": "execute_result"
    }
   ],
   "source": [
    "# version 4: self-attention!\n",
    "torch.manual_seed(1337)\n",
    "B, T, C = 4, 8, 32  # batch, time, channels\n",
    "x = torch.randn(B, T, C)\n",
    "\n",
    "# let's see a single Head perform self-attention\n",
    "head_size = 16\n",
    "key = nn.Linear(C, head_size, bias=False)\n",
    "query = nn.Linear(C, head_size, bias=False)\n",
    "value = nn.Linear(C, head_size, bias=False)\n",
    "k = key(x)  # (B, T, 16)\n",
    "q = query(x)  # (B, T, 16)\n",
    "wei = q @ k.transpose(-2, -1)  # (B, T, 16) @ (B, 16, T) ---> (B, T, T)\n",
    "\n",
    "tril = torch.tril(torch.ones(T, T))\n",
    "# wei = torch.zeros((T,T))\n",
    "# Full matrix multiplication is faster, just block what we do not need\n",
    "wei = wei.masked_fill(tril == 0, float('-inf'))\n",
    "wei = F.softmax(wei, dim=-1)\n",
    "\n",
    "v = value(x)\n",
    "out = wei @ v\n",
    "# out = wei @ x\n",
    "\n",
    "out.shape"
   ]
  },
  {
   "cell_type": "code",
   "execution_count": null,
   "metadata": {
    "ExecuteTime": {
     "end_time": "2024-04-18T10:04:43.040504Z",
     "start_time": "2024-04-18T10:04:43.037300Z"
    }
   },
   "outputs": [],
   "source": []
  },
  {
   "cell_type": "code",
   "execution_count": 26,
   "metadata": {
    "ExecuteTime": {
     "end_time": "2024-04-18T10:04:44.061674Z",
     "start_time": "2024-04-18T10:04:44.053844Z"
    },
    "colab": {
     "base_uri": "https://localhost:8080/"
    },
    "id": "vT1hdtzXCjgL",
    "outputId": "6d2c569b-7922-451f-9934-0fc564678d17"
   },
   "outputs": [
    {
     "data": {
      "text/plain": [
       "tensor([[1.0000, 0.0000, 0.0000, 0.0000, 0.0000, 0.0000, 0.0000, 0.0000],\n",
       "        [0.1574, 0.8426, 0.0000, 0.0000, 0.0000, 0.0000, 0.0000, 0.0000],\n",
       "        [0.2088, 0.1646, 0.6266, 0.0000, 0.0000, 0.0000, 0.0000, 0.0000],\n",
       "        [0.5792, 0.1187, 0.1889, 0.1131, 0.0000, 0.0000, 0.0000, 0.0000],\n",
       "        [0.0294, 0.1052, 0.0469, 0.0276, 0.7909, 0.0000, 0.0000, 0.0000],\n",
       "        [0.0176, 0.2689, 0.0215, 0.0089, 0.6812, 0.0019, 0.0000, 0.0000],\n",
       "        [0.1691, 0.4066, 0.0438, 0.0416, 0.1048, 0.2012, 0.0329, 0.0000],\n",
       "        [0.0210, 0.0843, 0.0555, 0.2297, 0.0573, 0.0709, 0.2423, 0.2391]],\n",
       "       grad_fn=<SelectBackward0>)"
      ]
     },
     "execution_count": 26,
     "metadata": {},
     "output_type": "execute_result"
    }
   ],
   "source": [
    "wei[0]"
   ]
  },
  {
   "cell_type": "markdown",
   "metadata": {},
   "source": [
    "## Notes:\n",
    "- Attention is a **communication mechanism**. Can be seen as nodes in a directed graph looking at each other and aggregating information with a weighted sum from all nodes that point to them, with data-dependent weights.\n",
    "- There is no notion of space. Attention simply acts over a set of vectors. This is why we need to positionally encode tokens.\n",
    "- Each example across batch dimension is of course processed completely independently and never \"talk\" to each other\n",
    "- In an \"encoder\" attention block just delete the single line that does masking with `tril`, allowing all tokens to communicate. This block here is called a \"decoder\" attention block because it has triangular masking, and is usually used in autoregressive settings, like language modeling.\n",
    "- \"self-attention\" just means that the keys and values are produced from the same source as queries. In \"cross-attention\", the queries still get produced from x, but the keys and values come from some other, external source (e.g. an encoder module)\n",
    "- \"Scaled\" attention additionally divides `wei` by 1/sqrt(head_size). This makes it so when input Q,K are unit variance, wei will be unit variance too and Softmax will stay diffuse and not saturate too much. Illustration below''"
   ]
  },
  {
   "cell_type": "code",
   "execution_count": 27,
   "metadata": {
    "ExecuteTime": {
     "end_time": "2024-04-18T10:04:47.598043Z",
     "start_time": "2024-04-18T10:04:47.592161Z"
    },
    "id": "4SNbLq5z3oBw"
   },
   "outputs": [],
   "source": [
    "# head_size is the dimension of \"latent space\"\n",
    "k = torch.randn(B, T, head_size)\n",
    "q = torch.randn(B, T, head_size)\n",
    "wei = q @ k.transpose(-2, -1) * head_size ** -0.5"
   ]
  },
  {
   "cell_type": "code",
   "execution_count": 28,
   "metadata": {
    "ExecuteTime": {
     "end_time": "2024-04-18T10:04:48.557897Z",
     "start_time": "2024-04-18T10:04:48.550456Z"
    },
    "colab": {
     "base_uri": "https://localhost:8080/"
    },
    "id": "Nl6I9n9IRTSo",
    "outputId": "0c5b9cd0-af8a-4564-fbad-41d844e54822"
   },
   "outputs": [
    {
     "data": {
      "text/plain": [
       "tensor(1.0449)"
      ]
     },
     "execution_count": 28,
     "metadata": {},
     "output_type": "execute_result"
    }
   ],
   "source": [
    "k.var()"
   ]
  },
  {
   "cell_type": "code",
   "execution_count": 29,
   "metadata": {
    "ExecuteTime": {
     "end_time": "2024-04-18T10:04:49.009300Z",
     "start_time": "2024-04-18T10:04:49.002554Z"
    },
    "colab": {
     "base_uri": "https://localhost:8080/"
    },
    "id": "T1tQx7oeRvtc",
    "outputId": "3541ca1a-7447-4ef7-835e-81824aebc1b5"
   },
   "outputs": [
    {
     "data": {
      "text/plain": [
       "tensor(1.0700)"
      ]
     },
     "execution_count": 29,
     "metadata": {},
     "output_type": "execute_result"
    }
   ],
   "source": [
    "q.var()"
   ]
  },
  {
   "cell_type": "code",
   "execution_count": 30,
   "metadata": {
    "ExecuteTime": {
     "end_time": "2024-04-18T10:04:49.482165Z",
     "start_time": "2024-04-18T10:04:49.473075Z"
    },
    "colab": {
     "base_uri": "https://localhost:8080/"
    },
    "id": "MLb_odHU3iKM",
    "outputId": "a687a222-5a2c-4cdb-c1bf-17cd05b45b69"
   },
   "outputs": [
    {
     "data": {
      "text/plain": [
       "tensor(1.0918)"
      ]
     },
     "execution_count": 30,
     "metadata": {},
     "output_type": "execute_result"
    }
   ],
   "source": [
    "wei.var()"
   ]
  },
  {
   "cell_type": "code",
   "execution_count": 31,
   "metadata": {
    "ExecuteTime": {
     "end_time": "2024-04-18T10:04:50.125578Z",
     "start_time": "2024-04-18T10:04:50.119668Z"
    },
    "colab": {
     "base_uri": "https://localhost:8080/"
    },
    "id": "JB82yzt44REI",
    "outputId": "f07da2f1-10bb-4a7a-bcaa-578587977d00"
   },
   "outputs": [
    {
     "data": {
      "text/plain": [
       "tensor([0.1925, 0.1426, 0.2351, 0.1426, 0.2872])"
      ]
     },
     "execution_count": 31,
     "metadata": {},
     "output_type": "execute_result"
    }
   ],
   "source": [
    "torch.softmax(torch.tensor([0.1, -0.2, 0.3, -0.2, 0.5]), dim=-1)"
   ]
  },
  {
   "cell_type": "code",
   "execution_count": 32,
   "metadata": {
    "ExecuteTime": {
     "end_time": "2024-04-18T10:04:50.774492Z",
     "start_time": "2024-04-18T10:04:50.768770Z"
    },
    "colab": {
     "base_uri": "https://localhost:8080/"
    },
    "id": "Mpt8569BB9_f",
    "outputId": "5d8b910a-6192-44ba-ebb2-497d88e0b629"
   },
   "outputs": [
    {
     "data": {
      "text/plain": [
       "tensor([0.0326, 0.0030, 0.1615, 0.0030, 0.8000])"
      ]
     },
     "execution_count": 32,
     "metadata": {},
     "output_type": "execute_result"
    }
   ],
   "source": [
    "torch.softmax(torch.tensor([0.1, -0.2, 0.3, -0.2, 0.5]) * 8, dim=-1)  # gets too peaky, converges to one-hot"
   ]
  },
  {
   "cell_type": "code",
   "execution_count": 33,
   "metadata": {
    "ExecuteTime": {
     "end_time": "2024-04-18T10:04:51.425350Z",
     "start_time": "2024-04-18T10:04:51.416960Z"
    },
    "colab": {
     "base_uri": "https://localhost:8080/"
    },
    "id": "2Num7sX9CKOH",
    "outputId": "929ceb78-a639-41d6-aac7-12997b5c93f0"
   },
   "outputs": [
    {
     "data": {
      "text/plain": [
       "torch.Size([32, 100])"
      ]
     },
     "execution_count": 33,
     "metadata": {},
     "output_type": "execute_result"
    }
   ],
   "source": [
    "class LayerNorm1d:  # (used to be BatchNorm1d)\n",
    "\n",
    "    def __init__(self, dim, eps=1e-5, momentum=0.1):\n",
    "        self.eps = eps\n",
    "        self.gamma = torch.ones(dim)\n",
    "        self.beta = torch.zeros(dim)\n",
    "\n",
    "    def __call__(self, x):\n",
    "        # calculate the forward pass\n",
    "        xmean = x.mean(1, keepdim=True)  # batch mean\n",
    "        xvar = x.var(1, keepdim=True)  # batch variance\n",
    "        xhat = (x - xmean) / torch.sqrt(xvar + self.eps)  # normalize to unit variance\n",
    "        self.out = self.gamma * xhat + self.beta\n",
    "        return self.out\n",
    "\n",
    "    def parameters(self):\n",
    "        return [self.gamma, self.beta]\n",
    "\n",
    "\n",
    "torch.manual_seed(1337)\n",
    "module = LayerNorm1d(100)\n",
    "# batch_norm_1d = nn.BatchNorm1d(100)\n",
    "# x_normalized_torch = batch_norm_1d(x)\n",
    "\n",
    "x = torch.randn(32, 100)  # batch size 32 of 100-dimensional vectors\n",
    "x_normalized = module(x)\n",
    "x_normalized.shape"
   ]
  },
  {
   "cell_type": "code",
   "execution_count": null,
   "metadata": {},
   "outputs": [],
   "source": []
  },
  {
   "cell_type": "code",
   "execution_count": 34,
   "metadata": {
    "colab": {
     "base_uri": "https://localhost:8080/"
    },
    "id": "633T2cmnW1uk",
    "outputId": "7720fa58-0478-4e8a-86a7-502d4cce9443"
   },
   "outputs": [
    {
     "data": {
      "text/plain": [
       "(tensor(0.1392), tensor(0.8899))"
      ]
     },
     "execution_count": 34,
     "metadata": {},
     "output_type": "execute_result"
    }
   ],
   "source": [
    "x[:, 0].mean(), x[:, 0].std()  # mean,std of one feature across all batch inputs"
   ]
  },
  {
   "cell_type": "code",
   "execution_count": 35,
   "metadata": {
    "colab": {
     "base_uri": "https://localhost:8080/"
    },
    "id": "LN9cK9BoXCYb",
    "outputId": "6368ece0-600e-417d-8a91-7c1e5d750ba8"
   },
   "outputs": [
    {
     "data": {
      "text/plain": [
       "(tensor(0.0409), tensor(1.0476))"
      ]
     },
     "execution_count": 35,
     "metadata": {},
     "output_type": "execute_result"
    }
   ],
   "source": [
    "x[0, :].mean(), x[0, :].std()  # mean,std of a single input from the batch, of its features"
   ]
  },
  {
   "cell_type": "markdown",
   "metadata": {
    "id": "dRJH6wM_XFfU",
    "lines_to_next_cell": 2
   },
   "source": [
    "```python\n",
    "# French to English translation example:\n",
    "\n",
    "# <--------- ENCODE ------------------><--------------- DECODE ----------------->\n",
    "# les réseaux de neurones sont géniaux! <START> neural networks are awesome!<END>\n",
    "```"
   ]
  },
  {
   "cell_type": "markdown",
   "metadata": {
    "id": "ZcvKeBXoZFOY"
   },
   "source": [
    "### Full finished code, for reference\n",
    "\n",
    "You may want to refer directly to the Karpathy's [git repo](https://github.com/karpathy/ng-video-lecture) or use [NanoGPT](https://github.com/karpathy/nanoGPT) instead though."
   ]
  },
  {
   "cell_type": "code",
   "execution_count": 36,
   "metadata": {
    "ExecuteTime": {
     "end_time": "2024-04-18T12:38:44.597151Z",
     "start_time": "2024-04-18T12:32:10.934438Z"
    },
    "colab": {
     "base_uri": "https://localhost:8080/"
    },
    "id": "hoelkOrFY8bN",
    "lines_to_next_cell": 2,
    "outputId": "961304cd-e379-40d4-dd56-8de0b91d2861"
   },
   "outputs": [
    {
     "name": "stdout",
     "output_type": "stream",
     "text": [
      "0.215808 M parameters\n",
      "step 0: train loss 4.1890, val loss 4.1885\n",
      "step 100: train loss 2.5203, val loss 2.5128\n",
      "step 200: train loss 2.2087, val loss 2.2280\n",
      "step 300: train loss 1.9885, val loss 2.0614\n",
      "step 400: train loss 1.7996, val loss 1.9230\n",
      "step 500: train loss 1.7208, val loss 1.8648\n",
      "step 600: train loss 1.6610, val loss 1.8272\n",
      "step 700: train loss 1.6218, val loss 1.7936\n",
      "step 800: train loss 1.5859, val loss 1.7645\n",
      "step 900: train loss 1.5593, val loss 1.7374\n",
      "step 1000: train loss 1.5727, val loss 1.7391\n",
      "step 1100: train loss 1.5257, val loss 1.7019\n",
      "step 1200: train loss 1.5101, val loss 1.6936\n",
      "step 1300: train loss 1.5033, val loss 1.6867\n",
      "step 1400: train loss 1.4825, val loss 1.6667\n",
      "step 1500: train loss 1.4743, val loss 1.6577\n",
      "step 1600: train loss 1.4717, val loss 1.6572\n",
      "step 1700: train loss 1.4584, val loss 1.6505\n",
      "step 1800: train loss 1.4466, val loss 1.6353\n",
      "step 1900: train loss 1.4423, val loss 1.6301\n",
      "step 2000: train loss 1.4483, val loss 1.6326\n",
      "step 2100: train loss 1.4322, val loss 1.6291\n",
      "step 2200: train loss 1.4267, val loss 1.6201\n",
      "step 2300: train loss 1.4237, val loss 1.6142\n",
      "step 2400: train loss 1.4157, val loss 1.6069\n",
      "step 2500: train loss 1.4104, val loss 1.6050\n",
      "step 2600: train loss 1.4105, val loss 1.6065\n",
      "step 2700: train loss 1.4058, val loss 1.6060\n",
      "step 2800: train loss 1.4023, val loss 1.5983\n",
      "step 2900: train loss 1.3992, val loss 1.5967\n",
      "step 3000: train loss 1.3964, val loss 1.5929\n",
      "step 3100: train loss 1.3934, val loss 1.5959\n",
      "step 3200: train loss 1.3905, val loss 1.5892\n",
      "step 3300: train loss 1.3861, val loss 1.5817\n",
      "step 3400: train loss 1.3873, val loss 1.5865\n",
      "step 3500: train loss 1.3850, val loss 1.5846\n",
      "step 3600: train loss 1.3816, val loss 1.5820\n",
      "step 3700: train loss 1.3786, val loss 1.5816\n",
      "step 3800: train loss 1.3778, val loss 1.5762\n",
      "step 3900: train loss 1.3747, val loss 1.5735\n",
      "step 4000: train loss 1.3722, val loss 1.5791\n",
      "step 4100: train loss 1.3727, val loss 1.5765\n",
      "step 4200: train loss 1.3725, val loss 1.5795\n",
      "step 4300: train loss 1.3736, val loss 1.5785\n",
      "step 4400: train loss 1.3675, val loss 1.5717\n",
      "step 4500: train loss 1.3649, val loss 1.5684\n",
      "step 4600: train loss 1.3663, val loss 1.5669\n",
      "step 4700: train loss 1.3611, val loss 1.5657\n",
      "step 4800: train loss 1.3614, val loss 1.5636\n",
      "step 4900: train loss 1.3591, val loss 1.5697\n",
      "step 5000: train loss 1.3640, val loss 1.5737\n",
      "step 5100: train loss 1.8337, val loss 1.9548\n",
      "step 5200: train loss 1.3989, val loss 1.6005\n",
      "step 5300: train loss 1.3727, val loss 1.5784\n",
      "step 5400: train loss 1.3656, val loss 1.5752\n",
      "step 5500: train loss 1.3609, val loss 1.5700\n",
      "step 5600: train loss 1.3588, val loss 1.5663\n",
      "step 5700: train loss 1.3558, val loss 1.5678\n",
      "step 5800: train loss 1.3536, val loss 1.5654\n",
      "step 5900: train loss 1.3526, val loss 1.5655\n",
      "step 6000: train loss 1.3500, val loss 1.5611\n",
      "step 6100: train loss 1.3543, val loss 1.5676\n",
      "step 6200: train loss 1.3485, val loss 1.5605\n",
      "step 6300: train loss 1.3472, val loss 1.5632\n",
      "step 6400: train loss 1.3463, val loss 1.5652\n",
      "step 6500: train loss 1.3445, val loss 1.5602\n",
      "step 6600: train loss 1.3436, val loss 1.5604\n",
      "step 6700: train loss 1.3427, val loss 1.5672\n",
      "step 6800: train loss 1.3439, val loss 1.5627\n",
      "step 6900: train loss 1.3393, val loss 1.5595\n",
      "step 7000: train loss 1.3419, val loss 1.5651\n",
      "step 7100: train loss 1.3409, val loss 1.5611\n",
      "step 7200: train loss 1.3427, val loss 1.5649\n",
      "step 7300: train loss 1.3393, val loss 1.5593\n",
      "step 7400: train loss 1.3360, val loss 1.5573\n",
      "step 7500: train loss 1.3405, val loss 1.5673\n",
      "step 7600: train loss 1.3387, val loss 1.5630\n",
      "step 7700: train loss 1.3365, val loss 1.5624\n",
      "step 7800: train loss 1.3336, val loss 1.5640\n",
      "step 7900: train loss 1.3351, val loss 1.5637\n",
      "step 8000: train loss 1.3350, val loss 1.5658\n",
      "step 8100: train loss 1.3320, val loss 1.5566\n",
      "step 8200: train loss 1.3315, val loss 1.5572\n",
      "step 8300: train loss 1.3321, val loss 1.5573\n",
      "step 8400: train loss 1.3321, val loss 1.5650\n",
      "step 8500: train loss 1.3326, val loss 1.5600\n",
      "step 8600: train loss 1.3325, val loss 1.5667\n",
      "step 8700: train loss 1.3300, val loss 1.5573\n",
      "step 8800: train loss 1.3289, val loss 1.5581\n",
      "step 8900: train loss 1.3289, val loss 1.5621\n",
      "step 9000: train loss 1.3276, val loss 1.5536\n",
      "step 9100: train loss 1.3263, val loss 1.5544\n",
      "step 9200: train loss 1.3284, val loss 1.5636\n",
      "step 9300: train loss 1.3270, val loss 1.5552\n",
      "step 9400: train loss 1.3262, val loss 1.5569\n",
      "step 9500: train loss 1.3264, val loss 1.5593\n",
      "step 9600: train loss 1.3250, val loss 1.5538\n",
      "step 9700: train loss 1.3251, val loss 1.5588\n",
      "step 9800: train loss 1.3245, val loss 1.5568\n",
      "step 9900: train loss 1.3228, val loss 1.5628\n",
      "step 9999: train loss 1.3235, val loss 1.5614\n",
      "\n",
      "\n",
      "DUKE Venery to tiege's nague will in him.\n",
      "Go, lamen, were no my none, I'll faith? Lower.\n",
      "\n",
      "NORTHUMBY:\n",
      "I am proper: and thy rain for chaired\n",
      "Befice, gone\n",
      "Hear years; yet sail a inferous to orguate.\n",
      "\n",
      "JULIET:\n",
      "Here your daminate to the people, and,\n",
      "They have. Marry begind-because you\n",
      "Sweing a wealth. Poor Clareretian seed:\n",
      "But, care widownest us?\n",
      "\n",
      "Menen, no surpose him: why, hither, venteren, he is it\n",
      "sweet a fall furthy this own, therefore I not in\n",
      "it.\n",
      "\n",
      "PRINCE ERKICHARD:\n",
      "A least thee loved a kise of licke worth\n",
      "Begain and at so sceedd the weakning sight.\n",
      "\n",
      "ROMEO.\n",
      "\n",
      "Rush on vailships the and the eny-I swir,\n",
      "For awil truthfus, both unflowers there to be would\n",
      "sussles than at the goodlor. Al tell; besimes\n",
      "To his bearet win a both toes,\n",
      "And love to soldie the deckoodly for a\n",
      "whence have Stay 'gawd very.\n",
      "Fathely we should go break up.'\n",
      "\n",
      "Most in his friend all.\n",
      "\n",
      "CORIOLANUS:\n",
      "Thou play there must it wilt not\n",
      "To foot twell more my eear of Bolingbroke,\n",
      "An all with suilench' thou may two Preasage!\n",
      "\n",
      "Server I will so happy of our bardled\n",
      "Conter mine strik's too the good rogues,\n",
      "And kear pout of my heart yea bed.\n",
      "That's is all, for in the bross them sead?\n",
      "Did darers o stands yours, are I be for you;\n",
      "Sheppale knows much ding sighs made a should bear\n",
      "To shall proft-my gantlen.\n",
      "\n",
      "Fesorow, if you be a conseged a hour, bastand I\n",
      "Have this sheople, nor Hanry must might of my sovet?\n",
      "\n",
      "GLOUCESTER:\n",
      "What, mercy on'tis treather it was a fortnes?\n",
      "Alp you my royal, sin, in say.\n",
      "Withing al toffull my virguide could, as't.\n",
      "\n",
      "KING RICHARD:\n",
      "Bring gracious loves sothers, throate i' the\n",
      "That\n",
      "Would parinage to secrif' the bloody sigh, and there,\n",
      "Who stand, unimation their aven ever pleasure\n",
      "Friend-compet As he bed: you was fold from\n",
      "And that fair or was him, to to preasures,\n",
      "To pranset thy love. But, the loators' tear,\n",
      "Were not and that tell the depop, not cheel?\n",
      "arklains overy clorge tack in mail buill\n",
      "With ward her brother'd a dear ClifLo,\n",
      "You shall perincation, and you are at noble.\n",
      "\n",
      "BAHORSON:\n",
      "Servant it\n"
     ]
    }
   ],
   "source": [
    "import math\n",
    "import torch\n",
    "import torch.nn as nn\n",
    "from torch.nn import functional as F\n",
    "\n",
    "# hyperparameters\n",
    "batch_size = 1024 # 16  # how many independent sequences will we process in parallel?\n",
    "block_size = 128 # 32  # what is the maximum context length for predictions?\n",
    "max_iters = 10000\n",
    "eval_interval = 100\n",
    "learning_rate = 1e-3\n",
    "device = 'cuda' if torch.cuda.is_available() else 'cpu'\n",
    "eval_iters = 200\n",
    "n_embd = 64\n",
    "n_head = 4\n",
    "n_layer = 4\n",
    "dropout = 0.2\n",
    "# ------------\n",
    "\n",
    "torch.manual_seed(1337)\n",
    "\n",
    "# wget https://raw.githubusercontent.com/karpathy/char-rnn/master/data/tinyshakespeare/input.txt\n",
    "save_path = Path('~').expanduser() / f'.cache/input.txt'\n",
    "if not save_path.exists():\n",
    "    !wget https://raw.githubusercontent.com/karpathy/char-rnn/master/data/tinyshakespeare/input.txt -O {save_path}\n",
    "\n",
    "# here are all the unique characters that occur in this text\n",
    "chars = sorted(list(set(text)))\n",
    "vocab_size = len(chars)\n",
    "# create a mapping from characters to integers\n",
    "stoi = {ch: i for i, ch in enumerate(chars)}\n",
    "itos = {i: ch for i, ch in enumerate(chars)}\n",
    "encode = lambda s: [stoi[c] for c in s]  # encoder: take a string, output a list of integers\n",
    "decode = lambda l: ''.join([itos[i] for i in l])  # decoder: take a list of integers, output a string\n",
    "\n",
    "# Train and test splits\n",
    "data = torch.tensor(encode(text), dtype=torch.long)\n",
    "n = int(0.9 * len(data))  # first 90% will be train, rest val\n",
    "train_data = data[:n]\n",
    "val_data = data[n:]\n",
    "\n",
    "\n",
    "# data loading\n",
    "def get_batch(split):\n",
    "    # generate a small batch of data of inputs x and targets y\n",
    "    data = train_data if split == 'train' else val_data\n",
    "    ix = torch.randint(len(data) - block_size, (batch_size,))\n",
    "    x = torch.stack([data[i:i + block_size] for i in ix])\n",
    "    y = torch.stack([data[i + 1:i + block_size + 1] for i in ix])\n",
    "    x, y = x.to(device), y.to(device)\n",
    "    return x, y\n",
    "\n",
    "\n",
    "@torch.no_grad()\n",
    "def estimate_loss():\n",
    "    out = {}\n",
    "    model.eval()\n",
    "    for split in ['train', 'val']:\n",
    "        losses = torch.zeros(eval_iters)\n",
    "        for k in range(eval_iters):\n",
    "            X, Y = get_batch(split)\n",
    "            logits, loss = model(X, Y)\n",
    "            losses[k] = loss.item()\n",
    "        out[split] = losses.mean()\n",
    "    model.train()\n",
    "    return out\n",
    "\n",
    "\n",
    "class Head(nn.Module):\n",
    "    \"\"\" one head of self-attention\n",
    "        https://magazine.sebastianraschka.com/p/understanding-and-coding-self-attention\n",
    "    \"\"\"\n",
    "\n",
    "    def __init__(self, head_size):\n",
    "        super().__init__()\n",
    "        self.key = nn.Linear(n_embd, head_size, bias=False)\n",
    "        self.query = nn.Linear(n_embd, head_size, bias=False)\n",
    "        self.value = nn.Linear(n_embd, head_size, bias=False)\n",
    "        # This limits us to the maximal context block_size\n",
    "        self.register_buffer('tril', torch.tril(torch.ones(block_size, block_size)))\n",
    "\n",
    "        self.dropout = nn.Dropout(dropout)\n",
    "\n",
    "    def forward(self, x):\n",
    "        B, T, C = x.shape\n",
    "        k = self.key(x)  # (B,T,C=n_embd) -> (B,T,C=head_size)\n",
    "        q = self.query(x)  # (B,T,C=n_embd) -> (B,T,C=head_size)\n",
    "        # compute attention scores (\"affinities\")\n",
    "        wei = q @ k.transpose(-2, -1) * C ** -0.5  # (B, T, C=head_size) @ (B, C=head_size), T) -> (B, T, T)\n",
    "        wei = wei.masked_fill(self.tril[:T, :T] == 0, float('-inf'))  # (B, T, T)\n",
    "        wei = F.softmax(wei, dim=-1)  # (B, T, T)\n",
    "        # The drop out is over full matrix, alternatively it would be better to just drop on mask, this is biased\n",
    "        # Also it seems maybe conceptually we should just do symmetric dropout\n",
    "        wei = self.dropout(wei)\n",
    "        # perform the weighted aggregation of the values\n",
    "        v = self.value(x)  # (B,T,C=head_size)\n",
    "        # The matrix multiplication is batched and applied on last two dimensions!\n",
    "        out = wei @ v  # (B, T, T) @ (B, T, C=head_size) -> (B, T, C=head_size)\n",
    "        return out\n",
    "\n",
    "\n",
    "class MultiHeadAttention(nn.Module):\n",
    "    \"\"\" multiple heads of self-attention in parallel \"\"\"\n",
    "\n",
    "    def __init__(self, num_heads, head_size):\n",
    "        super().__init__()\n",
    "        self.heads = nn.ModuleList([Head(head_size) for _ in range(num_heads)])\n",
    "        # Projection back to residual pathway, align the basis\n",
    "        self.proj = nn.Linear(n_embd, n_embd)\n",
    "        self.dropout = nn.Dropout(dropout)\n",
    "\n",
    "    def forward(self, x):\n",
    "        out = torch.cat([h(x) for h in self.heads], dim=-1)\n",
    "        out = self.dropout(self.proj(out))\n",
    "        return out\n",
    "\n",
    "\n",
    "class FeedFoward(nn.Module):\n",
    "    \"\"\" a simple linear layer followed by a non-linearity \"\"\"\n",
    "\n",
    "    def __init__(self, n_embd):\n",
    "        super().__init__()\n",
    "        self.net = nn.Sequential(\n",
    "            nn.Linear(n_embd, 4 * n_embd),\n",
    "            nn.ReLU(),\n",
    "            nn.Linear(4 * n_embd, n_embd), # Projection back to residual pathway\n",
    "            nn.Dropout(dropout),\n",
    "        )\n",
    "\n",
    "    def forward(self, x):\n",
    "        return self.net(x)\n",
    "\n",
    "\n",
    "class Block(nn.Module):\n",
    "    \"\"\" Transformer block: communication followed by computation \"\"\"\n",
    "\n",
    "    def __init__(self, n_embd: int, n_head: int):\n",
    "        # n_embd: embedding dimension, n_head: the number of heads we'd like\n",
    "        super().__init__()\n",
    "        # To guarantee that final concatenated embedding is of size n_embd \n",
    "        head_size = n_embd // n_head\n",
    "        self.sa = MultiHeadAttention(n_head, head_size)\n",
    "        self.ffwd = FeedFoward(n_embd)\n",
    "        self.ln1 = nn.LayerNorm(n_embd)\n",
    "        self.ln2 = nn.LayerNorm(n_embd)\n",
    "\n",
    "    def forward(self, x):\n",
    "        # Skip connections added to improve the flow of gradient\n",
    "        # Need to project back to residual pathway in sa and ffwd to \"align bases\" \n",
    "        \n",
    "        # Modern way is do to layer norm before and not after, in original paper it was done after, we do before!\n",
    "        x = x + self.sa(self.ln1(x))\n",
    "        x = x + self.ffwd(self.ln2(x))\n",
    "        return x\n",
    "\n",
    "\n",
    "# Not so super simple and not bigram model anymore\n",
    "class GPT2LanguageModel(nn.Module):\n",
    "\n",
    "    def __init__(self):\n",
    "        super().__init__()\n",
    "        # each token is mapped to latent space of size n_embd\n",
    "        self.token_embedding_table = nn.Embedding(vocab_size, n_embd)\n",
    "        # learnable position embedding for positions 0, ..., block_size - 1\n",
    "        self.position_embedding_table = nn.Embedding(block_size, n_embd)\n",
    "        # Modern way of handling this is:\n",
    "        # https://machinelearningmastery.com/a-gentle-introduction-to-positional-encoding-in-transformer-models-part-1/\n",
    "        # https://afterhoursresearch.hashnode.dev/rope-rotary-positional-embedding\n",
    "        self.blocks = nn.Sequential(*[Block(n_embd, n_head=n_head) for _ in range(n_layer)])\n",
    "        self.ln_f = nn.LayerNorm(n_embd)  # final layer norm\n",
    "        self.lm_head = nn.Linear(n_embd, vocab_size, bias=False)\n",
    "        \n",
    "        # init all weights, and apply a special scaled init to the residual projections, per GPT-2 paper\n",
    "        self.apply(self._init_weights)\n",
    "        for pn, p in self.named_parameters():\n",
    "            if pn.endswith('proj.weight'):\n",
    "                torch.nn.init.normal_(p, mean=0.0, std=0.02/math.sqrt(2 * n_layer))\n",
    "                \n",
    "    def _init_weights(self, module):\n",
    "        # Not really needed but with this in the convergence is faster\n",
    "        if isinstance(module, nn.Linear):\n",
    "            torch.nn.init.normal_(module.weight, mean=0.0, std=0.02)\n",
    "            if module.bias is not None:\n",
    "                torch.nn.init.zeros_(module.bias)\n",
    "        elif isinstance(module, nn.Embedding):\n",
    "            torch.nn.init.normal_(module.weight, mean=0.0, std=0.02)\n",
    "        elif isinstance(module, nn.LayerNorm):\n",
    "            torch.nn.init.zeros_(module.bias)\n",
    "            torch.nn.init.ones_(module.weight)\n",
    "\n",
    "    def forward(self, idx, targets=None):\n",
    "        B, T = idx.shape\n",
    "\n",
    "        # idx and targets are both (B,T) tensor of integers\n",
    "        tok_emb = self.token_embedding_table(idx)  # (B,T,C=n_embd)\n",
    "        pos_emb = self.position_embedding_table(torch.arange(T, device=device))  # (T,C=n_embd)\n",
    "        x = tok_emb + pos_emb  # (B,T,C=n_embd)\n",
    "        x = self.blocks(x)  # (B,T,C=n_embd)\n",
    "        # Modern way is do to layer norm before and not after, in original paper it was done after, we do before!\n",
    "        x = self.ln_f(x)  # (B,T,C=n_embd)\n",
    "        logits = self.lm_head(x)  # (B,T,vocab_size)\n",
    "\n",
    "        if targets is None:\n",
    "            loss = None\n",
    "        else:\n",
    "            B, T, C = logits.shape\n",
    "            logits = logits.view(B * T, C)\n",
    "            targets = targets.view(B * T)\n",
    "            loss = F.cross_entropy(logits, targets)\n",
    "\n",
    "        return logits, loss\n",
    "\n",
    "    def generate(self, idx, max_new_tokens):\n",
    "        # idx is (B, T) array of indices in the current context\n",
    "        for _ in range(max_new_tokens):\n",
    "            # crop idx to the last block_size tokens, otherwise things will explode\n",
    "            idx_cond = idx[:, -block_size:]\n",
    "            # get the predictions\n",
    "            logits, loss = self(idx_cond)\n",
    "            # focus only on the last time step\n",
    "            logits = logits[:, -1, :]  # (B, T, C=vocab_size) becomes (B, C=vocab_size)\n",
    "            # apply softmax to get probabilities\n",
    "            probs = F.softmax(logits, dim=-1)  # (B, C=vocab_size)\n",
    "            # sample from the multinomial distribution\n",
    "            idx_next = torch.multinomial(probs, num_samples=1)  # (B, 1)\n",
    "            # append sampled index to the running sequence\n",
    "            idx = torch.cat((idx, idx_next), dim=1)  # (B, T+1)\n",
    "        return idx\n",
    "\n",
    "\n",
    "model = GPT2LanguageModel()\n",
    "m = model.to(device)\n",
    "# print the number of parameters in the model\n",
    "print(sum(p.numel() for p in m.parameters()) / 1e6, 'M parameters')\n",
    "\n",
    "# create a PyTorch optimizer\n",
    "# https://www.ruder.io/optimizing-gradient-descent/#adam\n",
    "# https://iclr-blogposts.github.io/2023/blog/2023/adamw/\n",
    "optimizer = torch.optim.AdamW(model.parameters(), lr=learning_rate)\n",
    "\n",
    "for iter in range(max_iters):\n",
    "\n",
    "    # every once in a while evaluate the loss on train and val sets\n",
    "    if iter % eval_interval == 0 or iter == max_iters - 1:\n",
    "        losses = estimate_loss()\n",
    "        print(f\"step {iter}: train loss {losses['train']:.4f}, val loss {losses['val']:.4f}\")\n",
    "\n",
    "    # sample a batch of data\n",
    "    xb, yb = get_batch('train')\n",
    "\n",
    "    # evaluate the loss\n",
    "    logits, loss = model(xb, yb)\n",
    "    optimizer.zero_grad(set_to_none=True)\n",
    "    loss.backward()\n",
    "    optimizer.step()\n",
    "\n",
    "# generate from the model\n",
    "context = torch.zeros((1, 1), dtype=torch.long, device=device)\n",
    "print(decode(m.generate(context, max_new_tokens=2000)[0].tolist()))\n",
    "# Temperature motivation https://en.wikipedia.org/wiki/LogSumExp\n",
    "# What happens when you divide logits by posite Temp and then do softmax\n",
    "# Temp close to 0 is max in limit, one hot, Temp >> 1 in limit random"
   ]
  },
  {
   "cell_type": "markdown",
   "metadata": {},
   "source": [
    "### Draw the model graph"
   ]
  },
  {
   "cell_type": "code",
   "execution_count": 37,
   "metadata": {
    "ExecuteTime": {
     "end_time": "2024-04-18T13:45:18.731302Z",
     "start_time": "2024-04-18T13:45:16.626372Z"
    },
    "id": "fjjvMifYZf7x",
    "lines_to_next_cell": 2
   },
   "outputs": [
    {
     "name": "stdout",
     "output_type": "stream",
     "text": [
      "torch.Size([1024, 128])\n",
      "torch.Size([1024, 128])\n"
     ]
    }
   ],
   "source": [
    "# https://github.com/szagoruyko/pytorchviz\n",
    "# https://github.com/mert-kurttutan/torchview nicer graph\n",
    "from torchview import draw_graph\n",
    "import torchlens as tl\n",
    "\n",
    "# device='meta' -> no memory is consumed for visualization\n",
    "print(xb.shape)\n",
    "print(yb.shape)\n",
    "model_graph = draw_graph(model, input_data=(xb, yb), device='cuda')\n",
    "model_graph.visual_graph\n",
    "save = True\n",
    "save_path = Path('~/.cache').expanduser()\n",
    "if save:\n",
    "    torch.save(model.state_dict(), save_path / 'gpt2.pt')\n",
    "    torch.save(optimizer.state_dict(), save_path / 'gpt2_opt.pt')\n",
    "# model_history = tl.log_forward_pass(model, (xb, yb)\n",
    "#                                      , layers_to_save='all', vis_opt='unrolled')\n",
    "# print(model_history)"
   ]
  },
  {
   "cell_type": "code",
   "execution_count": 38,
   "metadata": {},
   "outputs": [
    {
     "name": "stdout",
     "output_type": "stream",
     "text": [
      "\n",
      "LUCIO:\n",
      "Nor attume to the whrewnty-shall not doubt good weak\n",
      "The pluck all on thee on thy heart, much serping.\n",
      "\n",
      "GLOUCESTER:\n",
      "Come, he shall be hears that should speak of phyself\n",
      "From humble and achery a heaver'd mirth,\n",
      "Contice.\n",
      "\n",
      "KING RICHARD IIV:\n",
      "Intil you have 'tis their head.\n",
      "\n",
      "JOHN OF GAUNT:\n",
      "They have beart a praise and vals to see yourself;\n",
      "And not to depose it, and, sweet before\n",
      "The gown of the sentigal of house,\n",
      "Might he shall, by where are to be yet?\n",
      "\n",
      "First Keeper:\n",
      "What is envy of our dead, for England.\n",
      "\n",
      "Second Murderess:\n",
      "A kind; he will may be conclifed thee.\n",
      "\n",
      "Clown:\n",
      "Them thrust I cannot be say, if I came; away.\n",
      "Why, sir, when then stufff that's life\n",
      "Reportence wings, were if he seek!\n",
      "\n",
      "JULIET:\n",
      "This pass good time love more.\n",
      "\n",
      "Second Servant:\n",
      "O, he fited upon the voice,\n",
      "And which a bed-will place, by the hinnguns\n",
      "hite such rumation.\n",
      "\n",
      "Second Gentleman:\n",
      "They have\n",
      "But ear to such our burths is friend could rewith.\n",
      "\n",
      "HORTENSIO:\n",
      "One shall say, think yet shall thy least from my good grace!\n",
      "\n",
      "ESCALUS:\n",
      "I would go then, stand good as as to so.\n",
      "\n",
      "DUKE VINCENTIO:\n",
      "And was thry face: I'll not condry.\n",
      "What proudy the great of the port, affter,\n",
      "And I cired so thee soul, that farewell have;\n",
      "Parged him me with quite her the accussed,\n",
      "And with a montages. Thy spacress her peace\n",
      "Of to their moother friends, and lucks: there,\n",
      "When we dare any with English uncle Mighcaster!\n",
      "What's remosted on unterty father whom\n",
      "the pregned neck it that is be to be\n",
      "I a joy of crown, of a fear he imposited.\n",
      "\n",
      "PERDITA:\n",
      "Foul came to Hacking so dispubble valm,\n",
      "Than away?\n",
      "\n",
      "BUCKINGHAM:\n",
      "Ay, lot leave?\n",
      "\n",
      "JULIET:\n",
      "Here ever Rome, follow which even lives a sickning\n",
      "Which of execut. Away they swift from you fame\n",
      "And not thee, or in as a beding thee?\n",
      "\n",
      "Second Citizen:\n",
      "Here, he's sir; fooly lives' false will,\n",
      "Strit, sir. Thou must to fe did death.\n",
      "\n",
      "DUKE VINCENTIO:\n",
      "I fear. Theu do, you, thou love--\n",
      "Gentleman we, victory of my head did for all,\n",
      "They shall call to the king noble Romeo.\n",
      "\n",
      "Shore.\n",
      "\n",
      "LUCIO:\n",
      "You canst and a shall\n"
     ]
    }
   ],
   "source": [
    "# generate from the model\n",
    "# Put to evaluation mode to set Dropout to evaluation mode\n",
    "model.eval()\n",
    "context = torch.zeros((1, 1), dtype=torch.long, device=device)\n",
    "print(decode(model.generate(context, max_new_tokens=2000)[0].tolist()))"
   ]
  }
 ],
 "metadata": {
  "colab": {
   "provenance": []
  },
  "kernelspec": {
   "display_name": "Python 3",
   "language": "python",
   "name": "python3"
  },
  "language_info": {
   "codemirror_mode": {
    "name": "ipython",
    "version": 3
   },
   "file_extension": ".py",
   "mimetype": "text/x-python",
   "name": "python",
   "nbconvert_exporter": "python",
   "pygments_lexer": "ipython3",
   "version": "3.11.7"
  }
 },
 "nbformat": 4,
 "nbformat_minor": 4
}
