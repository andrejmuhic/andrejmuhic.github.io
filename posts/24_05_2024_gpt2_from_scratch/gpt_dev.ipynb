{
 "cells": [
  {
   "metadata": {},
   "cell_type": "raw",
   "source": [
    "---\n",
    "title: \"GPT from scratch with comments\"\n",
    "author: \"Andrej Muhic\"\n",
    "date: \"2024-05-24\"\n",
    "categories: [news, code, analysis]\n",
    "image: \"multihead_transformer_with_learnable_positional_encoding.svg\"\n",
    "---"
   ]
  },
  {
   "metadata": {},
   "cell_type": "markdown",
   "source": [
    "# Building a GPT, prettified by Andrej Muhic\n",
    "All credit to\n",
    "Companion notebook to the [Zero To Hero](https://karpathy.ai/zero-to-hero.html) video on GPT by Andrej Karpathy.\n",
    "\n",
    "## Key techiques so deep learning is easier to use\n",
    "- Adam/AdamW optimizer\n",
    "- [Transformers](https://arxiv.org/abs/1706.03762)\n",
    "- Residual connections\n",
    "- Dropout\n",
    "- Layer/batch normalization\n",
    "- Automatic differentiation improvements\n",
    "- Polished libraries that are easy to use, https://pytorch.org/\n",
    "- Hardware acceleration, cuda, tpus, ...\n",
    "\n",
    "## Strict run time named dimension checking\n",
    "- <https://kidger.site/thoughts/jaxtyping/>\n",
    "- <https://docs.kidger.site/jaxtyping/api/array/>\n",
    "- <https://github.com/patrick-kidger/jaxtyping>\n",
    "- <https://github.com/agronholm/typeguard>\n",
    "\n",
    "## Tracking progress of your runs\n",
    "\n",
    "- <https://github.com/aimhubio/aim> free\n",
    "- <https://pytorch.org/tutorials/recipes/recipes/tensorboard_with_pytorch.html> free\n",
    "- <https://wandb.ai/site> paid\n",
    "\n",
    "## Optimization, AdamW state of the art\n",
    "- <https://www.ruder.io/optimizing-gradient-descent/#adam>\n",
    "- <https://iclr-blogposts.github.io/2023/blog/2023/adamw> as proximal operator\n",
    "- <https://arxiv.org/abs/2404.04454> Implicit Bias of AdamW: ℓ∞ Norm Constrained Optimization\n",
    "`optimizer = torch.optim.AdamW(model.parameters(), lr=learning_rate)`\n",
    "Adam is just using exponential weighted average of gradient and \"variance of gradients\", corrected for bias for starting at 0. \n",
    "AdamW adds a trick to do better incorporate L2 regularization for decay rate, best views as proximal operator in my opinion.\n",
    "\n",
    "### Troubles with regular techniques\n",
    "- Memory constraints even for Adam(W) we need to store two additional vectors thus we 3x our memory requirements.\n",
    "- Back stepping is not feasible for deep learning, too costly to store harder to parallelize!\n",
    "- <https://en.wikipedia.org/wiki/Limited-memory_BFGS> approximates inverse of Hessian implicitly and even this is too costly.\n",
    "- <https://en.wikipedia.org/wiki/Wolfe_conditions>\n",
    "- <https://en.wikipedia.org/wiki/Backtracking_line_search> more advanced step size\n",
    "\n",
    "## Visualizing the network\n",
    "- My personal favourite: <https://github.com/mert-kurttutan/torchview> nicer graph, device='meta' is buggy sometimes, use cuda or cpu.\n",
    "- Honourable mentions: <https://github.com/szagoruyko/pytorchviz>\n",
    "\n",
    "## Activations\n",
    "- <https://www.ai-contentlab.com/2023/03/swishglu-activation-function.html>\n",
    "- <https://pytorch.org/docs/stable/generated/torch.nn.SiLU.html>\n",
    "\n",
    "## Useful tricks\n",
    "### Einsum formulas for humans\n",
    "- <https://einops.rocks/api/einsum>\n",
    "\n",
    "### Broadcasting\n",
    "- <https://numpy.org/doc/stable/user/basics.broadcasting.html> My advice would be if you are not sure do manual broadcasting and test.\n",
    "- Strictly test dimenstions with something like jaxtyping\n",
    "\n",
    "### Sanity checks and data\n",
    "- Inspect your data before you start training\n",
    "- Overift on small piece of data using simplest possible model before trying to do something fancy\n",
    "- Getting better and more data will bring larger improvements than using superior model\n",
    "\n",
    "## NLP specific info\n",
    "\n",
    "### Tokenization\n",
    "- In practice one would use something like [Byte Pair Encoding](https://github.com/karpathy/minbpe) or [WordPiece, SentencePiece](https://huggingface.co/docs/transformers/en/tokenizer_summary)\n",
    "## Attention and geometric deep learning\n",
    "- Attention: <https://magazine.sebastianraschka.com/p/understanding-and-coding-self-attention>\n",
    "- [GNN](https://arxiv.org/abs/2301.08210) and [Geometric Deep Learning](https://geometricdeeplearning.com/lectures/)\n",
    "- Geometric Deep learning excites me as mathematician as it is a very nice way of infusing domain priors, symmetry, geometry of the problem\n",
    "\n",
    "THe full blown image of the multi head attention with learnable positional encoding. Code follows after. It is based on Karpathy notebook with my scratchpad like notes to facilitate deeper understanding.\n",
    "![image](multihead_transformer_with_learnable_positional_encoding.svg)"
   ]
  },
  {
   "cell_type": "code",
   "execution_count": 1,
   "metadata": {
    "ExecuteTime": {
     "end_time": "2024-04-24T10:01:35.447091Z",
     "start_time": "2024-04-24T10:01:33.936982Z"
    }
   },
   "outputs": [],
   "source": [
    "# Let us do some stricter typing\n",
    "%config Completer.use_jedi = False\n",
    "# from sklearn.model_selection import train_test_split\n",
    "import typing\n",
    "from typing import TYPE_CHECKING, Any, Optional\n",
    "import torch\n",
    "\n",
    "# Strict run time dimension checking\n",
    "# https://kidger.site/thoughts/jaxtyping/\n",
    "# https://docs.kidger.site/jaxtyping/api/array/\n",
    "# https://github.com/patrick-kidger/jaxtyping\n",
    "# https://github.com/agronholm/typeguard\n",
    "\n",
    "# Tracking the progress: \n",
    "#                        https://github.com/aimhubio/aim\n",
    "#                        https://pytorch.org/tutorials/recipes/recipes/tensorboard_with_pytorch.html\n",
    "#                        https://wandb.ai/site\n",
    "\n",
    "# Something on order of distributions in cross entropy and KL\n",
    "# https://agustinus.kristia.de/techblog/2016/12/21/forward-reverse-kl/\n",
    "\n",
    "# Visualizing the network\n",
    "# https://github.com/szagoruyko/pytorchviz\n",
    "# https://github.com/mert-kurttutan/torchview nicer graph\n",
    "\n",
    "# Optimization, AdamW state of the art\n",
    "# https://www.ruder.io/optimizing-gradient-descent/#adam\n",
    "# https://iclr-blogposts.github.io/2023/blog/2023/adamw/ as proximal operator\n",
    "# https://arxiv.org/abs/2404.04454 Implicit Bias of AdamW: ℓ∞ Norm Constrained Optimization\n",
    "# optimizer = torch.optim.AdamW(model.parameters(), lr=learning_rate)\n",
    "# exponential weighted average of gradient and \"variance of gradients\", corrected for bias for starting at 0 \n",
    "# +  a trick to do better than L2 for decay rate\n",
    "# Back stepping\n",
    "# Not feasible for deep learning, too costly to store harder to parallelize!\n",
    "# https://en.wikipedia.org/wiki/Limited-memory_BFGS approximates inverse of Hessian implicitly and even this is too costly\n",
    "# https://en.wikipedia.org/wiki/Wolfe_conditions\n",
    "# https://en.wikipedia.org/wiki/Backtracking_line_search more advanced step size\n",
    "\n",
    "# Activations\n",
    "# https://www.ai-contentlab.com/2023/03/swishglu-activation-function.html\n",
    "# https://pytorch.org/docs/stable/generated/torch.nn.SiLU.html\n",
    "\n",
    "# Einsum formulas for human, thanks for the hint guys!\n",
    "# https://einops.rocks/api/einsum/\n",
    "\n",
    "# Broadcasting\n",
    "# https://numpy.org/doc/stable/user/basics.broadcasting.html My advice would be if you are not sure do manual broadcasting and test.\n",
    "# Strictly test dimenstions with something like jaxtyping\n",
    "\n",
    "# key enabling techiques that made deep learning more easy to work with\n",
    "# - adam/adamw optimizer\n",
    "# - residual connections\n",
    "# - dropout\n",
    "# - layer/batch normalization\n",
    "# - automatic differentiation\n",
    "\n",
    "from jaxtyping import Float, Int64\n",
    "\n",
    "Array: typing.TypeAlias = torch.Tensor\n",
    "Long: typing.TypeAlias = Int64"
   ]
  },
  {
   "cell_type": "code",
   "execution_count": 2,
   "metadata": {
    "ExecuteTime": {
     "end_time": "2024-04-18T21:03:12.945313Z",
     "start_time": "2024-04-18T21:03:12.169198Z"
    },
    "colab": {
     "base_uri": "https://localhost:8080/"
    },
    "id": "h5hjCcLDr2WC",
    "outputId": "ccc60f0c-fd78-4dbe-8598-0512d1036aad"
   },
   "outputs": [
    {
     "name": "stdout",
     "output_type": "stream",
     "text": [
      "--2024-04-24 11:09:39--  https://raw.githubusercontent.com/karpathy/char-rnn/master/data/tinyshakespeare/input.txt\n",
      "Resolving raw.githubusercontent.com (raw.githubusercontent.com)... 185.199.109.133, 185.199.108.133, 185.199.110.133, ...\n",
      "Connecting to raw.githubusercontent.com (raw.githubusercontent.com)|185.199.109.133|:443... connected.\n",
      "HTTP request sent, awaiting response... 200 OK\n",
      "Length: 1115394 (1.1M) [text/plain]\n",
      "Saving to: ‘input.txt.23’\n",
      "\n",
      "input.txt.23        100%[===================>]   1.06M  --.-KB/s    in 0.07s   \n",
      "\n",
      "2024-04-24 11:09:39 (15.7 MB/s) - ‘input.txt.23’ saved [1115394/1115394]\n",
      "\n"
     ]
    }
   ],
   "source": [
    "# We always start with a dataset to train on. Let's download the tiny shakespeare dataset\n",
    "!wget https://raw.githubusercontent.com/karpathy/char-rnn/master/data/tinyshakespeare/input.txt"
   ]
  },
  {
   "cell_type": "code",
   "execution_count": 3,
   "metadata": {
    "ExecuteTime": {
     "end_time": "2024-04-18T21:03:14.363452Z",
     "start_time": "2024-04-18T21:03:14.356350Z"
    },
    "id": "O6medjfRsLD9"
   },
   "outputs": [],
   "source": [
    "# read it in to inspect it\n",
    "with open('input.txt', 'r', encoding='utf-8') as f:\n",
    "    text = f.read()"
   ]
  },
  {
   "cell_type": "code",
   "execution_count": 4,
   "metadata": {
    "ExecuteTime": {
     "end_time": "2024-04-18T21:03:15.359789Z",
     "start_time": "2024-04-18T21:03:15.353664Z"
    },
    "colab": {
     "base_uri": "https://localhost:8080/"
    },
    "id": "6xWI_VyAsN8F",
    "outputId": "ed819dd0-72e5-40a6-d2ed-928ff73bfda6"
   },
   "outputs": [
    {
     "name": "stdout",
     "output_type": "stream",
     "text": [
      "length of dataset in characters:  1115394\n"
     ]
    }
   ],
   "source": [
    "print(\"length of dataset in characters: \", len(text))"
   ]
  },
  {
   "cell_type": "code",
   "execution_count": 5,
   "metadata": {
    "ExecuteTime": {
     "end_time": "2024-04-18T21:03:15.872090Z",
     "start_time": "2024-04-18T21:03:15.867851Z"
    },
    "colab": {
     "base_uri": "https://localhost:8080/"
    },
    "id": "2c5V0FvqseE0",
    "outputId": "25ca7adc-b8c0-42d1-b08c-e0863c5c314e"
   },
   "outputs": [
    {
     "name": "stdout",
     "output_type": "stream",
     "text": [
      "First Citizen:\n",
      "Before we proceed any further, hear me speak.\n",
      "\n",
      "All:\n",
      "Speak, speak.\n",
      "\n",
      "First Citizen:\n",
      "You are all resolved rather to die than to famish?\n",
      "\n",
      "All:\n",
      "Resolved. resolved.\n",
      "\n",
      "First Citizen:\n",
      "First, you know Caius Marcius is chief enemy to the people.\n",
      "\n",
      "All:\n",
      "We know't, we know't.\n",
      "\n",
      "First Citizen:\n",
      "Let us kill him, and we'll have corn at our own price.\n",
      "Is't a verdict?\n",
      "\n",
      "All:\n",
      "No more talking on't; let it be done: away, away!\n",
      "\n",
      "Second Citizen:\n",
      "One word, good citizens.\n",
      "\n",
      "First Citizen:\n",
      "We are accounted poor citizens, the patricians good.\n",
      "What authority surfeits on would relieve us: if they\n",
      "would yield us but the superfluity, while it were\n",
      "wholesome, we might guess they relieved us humanely;\n",
      "but they think we are too dear: the leanness that\n",
      "afflicts us, the object of our misery, is as an\n",
      "inventory to particularise their abundance; our\n",
      "sufferance is a gain to them Let us revenge this with\n",
      "our pikes, ere we become rakes: for the gods know I\n",
      "speak this in hunger for bread, not in thirst for revenge.\n",
      "\n",
      "\n"
     ]
    }
   ],
   "source": [
    "# let's look at the first 1000 characters\n",
    "print(text[:1000])"
   ]
  },
  {
   "cell_type": "code",
   "execution_count": 6,
   "metadata": {
    "ExecuteTime": {
     "end_time": "2024-04-18T21:03:16.621405Z",
     "start_time": "2024-04-18T21:03:16.602273Z"
    },
    "colab": {
     "base_uri": "https://localhost:8080/"
    },
    "id": "0e-Rbyr8sfM8",
    "outputId": "f34e94a9-5b44-4cf3-885b-986731929109"
   },
   "outputs": [
    {
     "name": "stdout",
     "output_type": "stream",
     "text": [
      "\n",
      " !$&',-.3:;?ABCDEFGHIJKLMNOPQRSTUVWXYZabcdefghijklmnopqrstuvwxyz\n",
      "65\n"
     ]
    }
   ],
   "source": [
    "# here are all the unique characters that occur in this text\n",
    "chars: list[str] = sorted(list(set(text)))\n",
    "vocab_size = len(chars)\n",
    "print(''.join(chars))\n",
    "print(vocab_size)"
   ]
  },
  {
   "cell_type": "code",
   "execution_count": 7,
   "metadata": {
    "ExecuteTime": {
     "end_time": "2024-04-18T21:03:20.037680Z",
     "start_time": "2024-04-18T21:03:20.028295Z"
    },
    "colab": {
     "base_uri": "https://localhost:8080/"
    },
    "id": "Yw1LKNCgwjj1",
    "outputId": "86fcc21c-2cf7-40d9-cd7b-b5a253da4459"
   },
   "outputs": [
    {
     "name": "stdout",
     "output_type": "stream",
     "text": [
      "[46, 47, 47, 1, 58, 46, 43, 56, 43]\n",
      "hii there\n"
     ]
    }
   ],
   "source": [
    "# create a mapping from characters to integers\n",
    "stoi: dict[str, int] = {ch: i for i, ch in enumerate(chars)}\n",
    "itos: dict[int, str] = {i: ch for i, ch in enumerate(chars)}\n",
    "encode = lambda s: [stoi[c] for c in s]  # encoder: take a string, output a list of integers\n",
    "decode = lambda l: ''.join([itos[i] for i in l])  # decoder: take a list of integers, output a string\n",
    "\n",
    "# In practice one would use something like [Byte Pair Encoding](https://github.com/karpathy/minbpe) or [WordPiece, SentencePiece](https://huggingface.co/docs/transformers/en/tokenizer_summary)\n",
    "\n",
    "print(encode(\"hii there\"))\n",
    "print(decode(encode(\"hii there\")))"
   ]
  },
  {
   "cell_type": "code",
   "execution_count": 8,
   "metadata": {
    "ExecuteTime": {
     "end_time": "2024-04-18T21:03:21.266498Z",
     "start_time": "2024-04-18T21:03:21.071632Z"
    },
    "colab": {
     "base_uri": "https://localhost:8080/"
    },
    "id": "YJb0OXPwzvqg",
    "outputId": "db7297cc-36a9-4fae-e941-e7bb9e0e91d1"
   },
   "outputs": [
    {
     "name": "stdout",
     "output_type": "stream",
     "text": [
      "torch.Size([1115394]) torch.int64\n",
      "tensor([18, 47, 56, 57, 58,  1, 15, 47, 58, 47, 64, 43, 52, 10,  0, 14, 43, 44,\n",
      "        53, 56, 43,  1, 61, 43,  1, 54, 56, 53, 41, 43, 43, 42,  1, 39, 52, 63,\n",
      "         1, 44, 59, 56, 58, 46, 43, 56,  6,  1, 46, 43, 39, 56,  1, 51, 43,  1,\n",
      "        57, 54, 43, 39, 49,  8,  0,  0, 13, 50, 50, 10,  0, 31, 54, 43, 39, 49,\n",
      "         6,  1, 57, 54, 43, 39, 49,  8,  0,  0, 18, 47, 56, 57, 58,  1, 15, 47,\n",
      "        58, 47, 64, 43, 52, 10,  0, 37, 53, 59,  1, 39, 56, 43,  1, 39, 50, 50,\n",
      "         1, 56, 43, 57, 53, 50, 60, 43, 42,  1, 56, 39, 58, 46, 43, 56,  1, 58,\n",
      "        53,  1, 42, 47, 43,  1, 58, 46, 39, 52,  1, 58, 53,  1, 44, 39, 51, 47,\n",
      "        57, 46, 12,  0,  0, 13, 50, 50, 10,  0, 30, 43, 57, 53, 50, 60, 43, 42,\n",
      "         8,  1, 56, 43, 57, 53, 50, 60, 43, 42,  8,  0,  0, 18, 47, 56, 57, 58,\n",
      "         1, 15, 47, 58, 47, 64, 43, 52, 10,  0, 18, 47, 56, 57, 58,  6,  1, 63,\n",
      "        53, 59,  1, 49, 52, 53, 61,  1, 15, 39, 47, 59, 57,  1, 25, 39, 56, 41,\n",
      "        47, 59, 57,  1, 47, 57,  1, 41, 46, 47, 43, 44,  1, 43, 52, 43, 51, 63,\n",
      "         1, 58, 53,  1, 58, 46, 43,  1, 54, 43, 53, 54, 50, 43,  8,  0,  0, 13,\n",
      "        50, 50, 10,  0, 35, 43,  1, 49, 52, 53, 61,  5, 58,  6,  1, 61, 43,  1,\n",
      "        49, 52, 53, 61,  5, 58,  8,  0,  0, 18, 47, 56, 57, 58,  1, 15, 47, 58,\n",
      "        47, 64, 43, 52, 10,  0, 24, 43, 58,  1, 59, 57,  1, 49, 47, 50, 50,  1,\n",
      "        46, 47, 51,  6,  1, 39, 52, 42,  1, 61, 43,  5, 50, 50,  1, 46, 39, 60,\n",
      "        43,  1, 41, 53, 56, 52,  1, 39, 58,  1, 53, 59, 56,  1, 53, 61, 52,  1,\n",
      "        54, 56, 47, 41, 43,  8,  0, 21, 57,  5, 58,  1, 39,  1, 60, 43, 56, 42,\n",
      "        47, 41, 58, 12,  0,  0, 13, 50, 50, 10,  0, 26, 53,  1, 51, 53, 56, 43,\n",
      "         1, 58, 39, 50, 49, 47, 52, 45,  1, 53, 52,  5, 58, 11,  1, 50, 43, 58,\n",
      "         1, 47, 58,  1, 40, 43,  1, 42, 53, 52, 43, 10,  1, 39, 61, 39, 63,  6,\n",
      "         1, 39, 61, 39, 63,  2,  0,  0, 31, 43, 41, 53, 52, 42,  1, 15, 47, 58,\n",
      "        47, 64, 43, 52, 10,  0, 27, 52, 43,  1, 61, 53, 56, 42,  6,  1, 45, 53,\n",
      "        53, 42,  1, 41, 47, 58, 47, 64, 43, 52, 57,  8,  0,  0, 18, 47, 56, 57,\n",
      "        58,  1, 15, 47, 58, 47, 64, 43, 52, 10,  0, 35, 43,  1, 39, 56, 43,  1,\n",
      "        39, 41, 41, 53, 59, 52, 58, 43, 42,  1, 54, 53, 53, 56,  1, 41, 47, 58,\n",
      "        47, 64, 43, 52, 57,  6,  1, 58, 46, 43,  1, 54, 39, 58, 56, 47, 41, 47,\n",
      "        39, 52, 57,  1, 45, 53, 53, 42,  8,  0, 35, 46, 39, 58,  1, 39, 59, 58,\n",
      "        46, 53, 56, 47, 58, 63,  1, 57, 59, 56, 44, 43, 47, 58, 57,  1, 53, 52,\n",
      "         1, 61, 53, 59, 50, 42,  1, 56, 43, 50, 47, 43, 60, 43,  1, 59, 57, 10,\n",
      "         1, 47, 44,  1, 58, 46, 43, 63,  0, 61, 53, 59, 50, 42,  1, 63, 47, 43,\n",
      "        50, 42,  1, 59, 57,  1, 40, 59, 58,  1, 58, 46, 43,  1, 57, 59, 54, 43,\n",
      "        56, 44, 50, 59, 47, 58, 63,  6,  1, 61, 46, 47, 50, 43,  1, 47, 58,  1,\n",
      "        61, 43, 56, 43,  0, 61, 46, 53, 50, 43, 57, 53, 51, 43,  6,  1, 61, 43,\n",
      "         1, 51, 47, 45, 46, 58,  1, 45, 59, 43, 57, 57,  1, 58, 46, 43, 63,  1,\n",
      "        56, 43, 50, 47, 43, 60, 43, 42,  1, 59, 57,  1, 46, 59, 51, 39, 52, 43,\n",
      "        50, 63, 11,  0, 40, 59, 58,  1, 58, 46, 43, 63,  1, 58, 46, 47, 52, 49,\n",
      "         1, 61, 43,  1, 39, 56, 43,  1, 58, 53, 53,  1, 42, 43, 39, 56, 10,  1,\n",
      "        58, 46, 43,  1, 50, 43, 39, 52, 52, 43, 57, 57,  1, 58, 46, 39, 58,  0,\n",
      "        39, 44, 44, 50, 47, 41, 58, 57,  1, 59, 57,  6,  1, 58, 46, 43,  1, 53,\n",
      "        40, 48, 43, 41, 58,  1, 53, 44,  1, 53, 59, 56,  1, 51, 47, 57, 43, 56,\n",
      "        63,  6,  1, 47, 57,  1, 39, 57,  1, 39, 52,  0, 47, 52, 60, 43, 52, 58,\n",
      "        53, 56, 63,  1, 58, 53,  1, 54, 39, 56, 58, 47, 41, 59, 50, 39, 56, 47,\n",
      "        57, 43,  1, 58, 46, 43, 47, 56,  1, 39, 40, 59, 52, 42, 39, 52, 41, 43,\n",
      "        11,  1, 53, 59, 56,  0, 57, 59, 44, 44, 43, 56, 39, 52, 41, 43,  1, 47,\n",
      "        57,  1, 39,  1, 45, 39, 47, 52,  1, 58, 53,  1, 58, 46, 43, 51,  1, 24,\n",
      "        43, 58,  1, 59, 57,  1, 56, 43, 60, 43, 52, 45, 43,  1, 58, 46, 47, 57,\n",
      "         1, 61, 47, 58, 46,  0, 53, 59, 56,  1, 54, 47, 49, 43, 57,  6,  1, 43,\n",
      "        56, 43,  1, 61, 43,  1, 40, 43, 41, 53, 51, 43,  1, 56, 39, 49, 43, 57,\n",
      "        10,  1, 44, 53, 56,  1, 58, 46, 43,  1, 45, 53, 42, 57,  1, 49, 52, 53,\n",
      "        61,  1, 21,  0, 57, 54, 43, 39, 49,  1, 58, 46, 47, 57,  1, 47, 52,  1,\n",
      "        46, 59, 52, 45, 43, 56,  1, 44, 53, 56,  1, 40, 56, 43, 39, 42,  6,  1,\n",
      "        52, 53, 58,  1, 47, 52,  1, 58, 46, 47, 56, 57, 58,  1, 44, 53, 56,  1,\n",
      "        56, 43, 60, 43, 52, 45, 43,  8,  0,  0])\n"
     ]
    }
   ],
   "source": [
    "# let's now encode the entire text dataset and store it into a torch.Tensor\n",
    "import torch  # we use PyTorch: https://pytorch.org\n",
    "\n",
    "data = torch.tensor(encode(text), dtype=torch.int64)\n",
    "print(data.shape, data.dtype)\n",
    "print(data[:1000])  # the 1000 characters we looked at earier will to the GPT look like this"
   ]
  },
  {
   "cell_type": "code",
   "execution_count": 9,
   "metadata": {
    "ExecuteTime": {
     "end_time": "2024-04-18T21:03:21.893448Z",
     "start_time": "2024-04-18T21:03:21.888138Z"
    },
    "id": "f_WIXqxz0lU5"
   },
   "outputs": [],
   "source": [
    "# Let's now split up the data into train and validation sets\n",
    "n = int(0.9 * len(data))  # first 90% will be train, rest val\n",
    "train_data = data[:n]\n",
    "val_data = data[n:]"
   ]
  },
  {
   "cell_type": "code",
   "execution_count": 10,
   "metadata": {
    "ExecuteTime": {
     "end_time": "2024-04-18T21:03:22.749280Z",
     "start_time": "2024-04-18T21:03:22.736514Z"
    },
    "colab": {
     "base_uri": "https://localhost:8080/"
    },
    "id": "TD5Bj8Y6IAD4",
    "outputId": "bf23c586-1d33-4af1-b63d-ce6f90b0a528"
   },
   "outputs": [
    {
     "data": {
      "text/plain": [
       "tensor([18, 47, 56, 57, 58,  1, 15, 47, 58])"
      ]
     },
     "execution_count": 10,
     "metadata": {},
     "output_type": "execute_result"
    }
   ],
   "source": [
    "block_size = 8\n",
    "# First block and the target\n",
    "train_data[:block_size + 1]"
   ]
  },
  {
   "cell_type": "code",
   "execution_count": 11,
   "metadata": {
    "ExecuteTime": {
     "end_time": "2024-04-18T21:03:23.346539Z",
     "start_time": "2024-04-18T21:03:23.337420Z"
    },
    "colab": {
     "base_uri": "https://localhost:8080/"
    },
    "id": "9HXDe8vGJCEn",
    "outputId": "588663aa-1de5-4ef7-aba0-4a96fe828353"
   },
   "outputs": [
    {
     "name": "stdout",
     "output_type": "stream",
     "text": [
      "when input is tensor([18]) the target: 47\n",
      "when input is tensor([18, 47]) the target: 56\n",
      "when input is tensor([18, 47, 56]) the target: 57\n",
      "when input is tensor([18, 47, 56, 57]) the target: 58\n",
      "when input is tensor([18, 47, 56, 57, 58]) the target: 1\n",
      "when input is tensor([18, 47, 56, 57, 58,  1]) the target: 15\n",
      "when input is tensor([18, 47, 56, 57, 58,  1, 15]) the target: 47\n",
      "when input is tensor([18, 47, 56, 57, 58,  1, 15, 47]) the target: 58\n"
     ]
    }
   ],
   "source": [
    "# This is what we want to learn for max_context_size = block_size\n",
    "# It is important that we train also for shorter sequences than block_size\n",
    "# When creating batches in practice we could need padding token and if pad left or right!\n",
    "# Also how to shuffle if we need to if data does not fit in memory: https://blog.janestreet.com/how-to-shuffle-a-big-dataset/\n",
    "x = train_data[:block_size]\n",
    "y = train_data[1:block_size + 1]\n",
    "for t in range(block_size):\n",
    "    context = x[:t + 1]\n",
    "    target = y[t]\n",
    "    print(f\"when input is {context} the target: {target}\")"
   ]
  },
  {
   "cell_type": "code",
   "execution_count": 12,
   "metadata": {
    "ExecuteTime": {
     "end_time": "2024-04-18T21:03:24.199559Z",
     "start_time": "2024-04-18T21:03:24.160058Z"
    },
    "colab": {
     "base_uri": "https://localhost:8080/"
    },
    "id": "Q3k1Czf7LuA9",
    "outputId": "4ea8e8a0-443c-49bb-b3bf-ba36e1712999"
   },
   "outputs": [
    {
     "name": "stdout",
     "output_type": "stream",
     "text": [
      "inputs:\n",
      "torch.Size([4, 8])\n",
      "tensor([[24, 43, 58,  5, 57,  1, 46, 43],\n",
      "        [44, 53, 56,  1, 58, 46, 39, 58],\n",
      "        [52, 58,  1, 58, 46, 39, 58,  1],\n",
      "        [25, 17, 27, 10,  0, 21,  1, 54]])\n",
      "targets:\n",
      "torch.Size([4, 8])\n",
      "tensor([[43, 58,  5, 57,  1, 46, 43, 39],\n",
      "        [53, 56,  1, 58, 46, 39, 58,  1],\n",
      "        [58,  1, 58, 46, 39, 58,  1, 46],\n",
      "        [17, 27, 10,  0, 21,  1, 54, 39]])\n",
      "----\n",
      "when input is [24] the target: 43\n",
      "when input is [24, 43] the target: 58\n",
      "when input is [24, 43, 58] the target: 5\n",
      "when input is [24, 43, 58, 5] the target: 57\n",
      "when input is [24, 43, 58, 5, 57] the target: 1\n",
      "when input is [24, 43, 58, 5, 57, 1] the target: 46\n",
      "when input is [24, 43, 58, 5, 57, 1, 46] the target: 43\n",
      "when input is [24, 43, 58, 5, 57, 1, 46, 43] the target: 39\n",
      "when input is [44] the target: 53\n",
      "when input is [44, 53] the target: 56\n",
      "when input is [44, 53, 56] the target: 1\n",
      "when input is [44, 53, 56, 1] the target: 58\n",
      "when input is [44, 53, 56, 1, 58] the target: 46\n",
      "when input is [44, 53, 56, 1, 58, 46] the target: 39\n",
      "when input is [44, 53, 56, 1, 58, 46, 39] the target: 58\n",
      "when input is [44, 53, 56, 1, 58, 46, 39, 58] the target: 1\n",
      "when input is [52] the target: 58\n",
      "when input is [52, 58] the target: 1\n",
      "when input is [52, 58, 1] the target: 58\n",
      "when input is [52, 58, 1, 58] the target: 46\n",
      "when input is [52, 58, 1, 58, 46] the target: 39\n",
      "when input is [52, 58, 1, 58, 46, 39] the target: 58\n",
      "when input is [52, 58, 1, 58, 46, 39, 58] the target: 1\n",
      "when input is [52, 58, 1, 58, 46, 39, 58, 1] the target: 46\n",
      "when input is [25] the target: 17\n",
      "when input is [25, 17] the target: 27\n",
      "when input is [25, 17, 27] the target: 10\n",
      "when input is [25, 17, 27, 10] the target: 0\n",
      "when input is [25, 17, 27, 10, 0] the target: 21\n",
      "when input is [25, 17, 27, 10, 0, 21] the target: 1\n",
      "when input is [25, 17, 27, 10, 0, 21, 1] the target: 54\n",
      "when input is [25, 17, 27, 10, 0, 21, 1, 54] the target: 39\n"
     ]
    }
   ],
   "source": [
    "torch.manual_seed(1337)\n",
    "batch_size = 4  # how many independent sequences will we process in parallel?\n",
    "block_size = 8  # what is the maximum context length for predictions?\n",
    "\n",
    "\n",
    "def get_batch(split_kind: str) -> tuple[Int64[Array, \"n_batches block_size\"], Int64[Array, \"n_batches block_size\"]]:\n",
    "    # generate a small batch of data of inputs x and targets y\n",
    "    data = train_data if split_kind == 'train' else val_data\n",
    "    # Random starting indices of blocks, notice that blocks can overlap\n",
    "    # To do something like this for real: \n",
    "    ix = torch.randint(len(data) - block_size, (batch_size,))\n",
    "    x = torch.stack([data[i:i + block_size] for i in ix])\n",
    "    y = torch.stack([data[i + 1:i + block_size + 1] for i in ix])\n",
    "    return x, y\n",
    "\n",
    "\n",
    "xb, yb = get_batch('train')\n",
    "print('inputs:')\n",
    "print(xb.shape)\n",
    "print(xb)\n",
    "print('targets:')\n",
    "print(yb.shape)\n",
    "print(yb)\n",
    "\n",
    "print('----')\n",
    "\n",
    "for b in range(batch_size):  # batch dimension\n",
    "    for t in range(block_size):  # time dimension\n",
    "        context = xb[b, :t + 1]\n",
    "        target = yb[b, t]\n",
    "        print(f\"when input is {context.tolist()} the target: {target}\")"
   ]
  },
  {
   "cell_type": "code",
   "execution_count": 13,
   "metadata": {
    "ExecuteTime": {
     "end_time": "2024-04-18T21:03:24.800094Z",
     "start_time": "2024-04-18T21:03:24.795285Z"
    },
    "colab": {
     "base_uri": "https://localhost:8080/"
    },
    "id": "qpyyAeIzQjlO",
    "outputId": "a650f8dc-da81-400b-bc59-0a595487fdb9"
   },
   "outputs": [
    {
     "name": "stdout",
     "output_type": "stream",
     "text": [
      "tensor([[24, 43, 58,  5, 57,  1, 46, 43],\n",
      "        [44, 53, 56,  1, 58, 46, 39, 58],\n",
      "        [52, 58,  1, 58, 46, 39, 58,  1],\n",
      "        [25, 17, 27, 10,  0, 21,  1, 54]])\n"
     ]
    }
   ],
   "source": [
    "print(xb)  # our input to the transformer"
   ]
  },
  {
   "cell_type": "code",
   "execution_count": 14,
   "metadata": {
    "ExecuteTime": {
     "end_time": "2024-04-18T21:03:25.254204Z",
     "start_time": "2024-04-18T21:03:25.212434Z"
    },
    "colab": {
     "base_uri": "https://localhost:8080/"
    },
    "id": "nql_1ER53oCf",
    "outputId": "5de90b1b-4603-428a-f571-fe4bd3c45436"
   },
   "outputs": [
    {
     "name": "stdout",
     "output_type": "stream",
     "text": [
      "torch.Size([32, 65])\n",
      "tensor(4.8786, grad_fn=<NllLossBackward0>)\n",
      "torch.Size([])\n",
      "\n",
      "Sr?qP-QWktXoL&jLDJgOLVz'RIoDqHdhsV&vLLxatjscMpwLERSPyao.qfzs$Ys$zF-w,;eEkzxjgCKFChs!iWW.ObzDnxA Ms$3\n"
     ]
    }
   ],
   "source": [
    "import torch\n",
    "import torch.nn as nn\n",
    "from torch.nn import functional as F\n",
    "\n",
    "torch.manual_seed(1337)\n",
    "\n",
    "\n",
    "class BigramLanguageModel(nn.Module):\n",
    "\n",
    "    def __init__(self, vocab_size: int):\n",
    "        super().__init__()\n",
    "        # each token directly reads off the logits for the next token from a lookup table\n",
    "        self.token_embedding_table = nn.Embedding(vocab_size, vocab_size)\n",
    "\n",
    "    def forward(self, idx: Long[torch.Tensor, \"batch_dim context_dim\"],\n",
    "                targets: Optional[Long[torch.Tensor, \"batch_dim context_dim\"]] = None):\n",
    "\n",
    "        # idx and targets are both (B,T) tensor of integers\n",
    "        logits: Long[torch.Tensor, \"batch_dim context_dim latent_dim\"] = self.token_embedding_table(\n",
    "            idx)  # (B,T,C=vocab_size)\n",
    "\n",
    "        if targets is None:\n",
    "            return logits, None\n",
    "        else:\n",
    "            # Note that here strictly speaking this does not fix batch size explicitly to B\n",
    "            B, T, C = logits.shape  # (B,T,C=vocab_size)\n",
    "            # Just a hack to avoid transposing, cross_entropy expects B x C x T in batched mode\n",
    "            # This converts into non batched mode\n",
    "            logits: Long[torch.Tensor, \"batch_dim*context_dim latent_dim\"] = logits.view(B * T, C)\n",
    "            targets: Long[torch.Tensor, \"batch_dim*context_dim\"] = targets.view(B * T)\n",
    "            # https://agustinus.kristia.de/techblog/2016/12/21/forward-reverse-kl/\n",
    "            loss: Float[torch.Tensor, \"\"] = F.cross_entropy(logits, targets)\n",
    "            return logits, loss\n",
    "\n",
    "    def generate(self, idx: Long[torch.Tensor, \"batch_dim context_dim\"], max_new_tokens: int):\n",
    "        # idx is (B, T) array of indices in the current context\n",
    "        for _ in range(max_new_tokens):\n",
    "            # get the predictions\n",
    "            logits, loss = self(idx)\n",
    "            # focus only on the last time step\n",
    "            logits = logits[:, -1, :]  # becomes (B, vocab_size)\n",
    "            # apply softmax to get probabilities\n",
    "            probs = F.softmax(logits, dim=-1)  # (B, vocab_size)\n",
    "            # sample from the distribution\n",
    "            idx_next = torch.multinomial(probs, num_samples=1)  # (B, 1)\n",
    "            # append sampled index to the running sequence\n",
    "            idx = torch.cat((idx, idx_next), dim=1)  # (B, T+1)\n",
    "            # What can go wrong here? and it is not handled at all\n",
    "        return idx\n",
    "\n",
    "\n",
    "m = BigramLanguageModel(vocab_size)\n",
    "logits, loss = m(xb, yb)\n",
    "print(logits.shape)\n",
    "print(loss)\n",
    "print(loss.shape)\n",
    "print(decode(m.generate(idx=torch.zeros((1, 1), dtype=torch.long), max_new_tokens=100)[0].tolist()))"
   ]
  },
  {
   "cell_type": "code",
   "execution_count": 15,
   "metadata": {
    "ExecuteTime": {
     "end_time": "2024-04-18T10:04:30.056752Z",
     "start_time": "2024-04-18T10:04:30.049343Z"
    },
    "id": "eTyJ8qAaDdiF"
   },
   "outputs": [],
   "source": [
    "# create a PyTorch optimizer\n",
    "optimizer = torch.optim.AdamW(m.parameters(), lr=1e-3)\n",
    "# weighted average of mean and \"variance\" of gradients +  a trick\n",
    "# Not feasible for deep learning, too costly to store harder to parallelize!\n",
    "# https://en.wikipedia.org/wiki/Limited-memory_BFGS approximates inverse of Hessian implicitly and even this is too costly\n",
    "# https://en.wikipedia.org/wiki/Wolfe_conditions\n",
    "# https://en.wikipedia.org/wiki/Backtracking_line_search more advanced step size"
   ]
  },
  {
   "cell_type": "code",
   "execution_count": 16,
   "metadata": {
    "ExecuteTime": {
     "end_time": "2024-04-18T10:04:31.157783Z",
     "start_time": "2024-04-18T10:04:30.847995Z"
    },
    "colab": {
     "base_uri": "https://localhost:8080/"
    },
    "id": "Hs4kI8YdEkQj",
    "outputId": "42ded55c-2983-4d91-c528-675b2edfa849"
   },
   "outputs": [
    {
     "name": "stdout",
     "output_type": "stream",
     "text": [
      "3.7218432426452637\n"
     ]
    }
   ],
   "source": [
    "batch_size = 32\n",
    "n_steps = 1_000\n",
    "for steps in range(n_steps):  # increase number of steps for good results...\n",
    "\n",
    "    # sample a batch of data\n",
    "    xb, yb = get_batch('train')\n",
    "\n",
    "    # evaluate the loss\n",
    "    logits, loss = m(xb, yb)\n",
    "    optimizer.zero_grad(set_to_none=True)\n",
    "    loss.backward()\n",
    "    optimizer.step()\n",
    "\n",
    "print(loss.item())"
   ]
  },
  {
   "cell_type": "code",
   "execution_count": 17,
   "metadata": {
    "ExecuteTime": {
     "end_time": "2024-04-18T10:04:31.993194Z",
     "start_time": "2024-04-18T10:04:31.909969Z"
    },
    "colab": {
     "base_uri": "https://localhost:8080/"
    },
    "id": "EcVIDWAZEtjN",
    "outputId": "0ad6f9d2-ad58-4498-a5f8-6f31407bb18b"
   },
   "outputs": [
    {
     "name": "stdout",
     "output_type": "stream",
     "text": [
      "\n",
      "olylvLLko'TMyatyIoconxad.?-tNSqYPsx&bF.oiR;BD$dZBMZv'K f bRSmIKptRPly:AUC&$zLK,qUEy&Ay;ZxjKVhmrdagC-bTop-QJe.H?x\n",
      "JGF&pwst-P sti.hlEsu;w:w a BG:tLhMk,epdhlay'sVzLq--ERwXUzDnq-bn czXxxI&V&Pynnl,s,Ioto!uvixwC-IJXElrgm C-.bcoCPJ\n",
      "IMphsevhO AL!-K:AIkpre,\n",
      "rPHEJUzV;P?uN3b?ohoRiBUENoV3B&jumNL;Aik,\n",
      "xf -IEKROn JSyYWW?n 'ay;:weO'AqVzPyoiBL? seAX3Dot,iy.xyIcf r!!ul-Koi:x pZrAQly'v'a;vEzN\n",
      "BwowKo'MBqF$PPFb\n",
      "CjYX3beT,lZ qdda!wfgmJP\n",
      "DUfNXmnQU mvcv?nlnQF$JUAAywNocd  bGSPyAlprNeQnq-GRSVUP.Ja!IBoDqfI&xJM AXEHV&DKvRS\n"
     ]
    }
   ],
   "source": [
    "print(decode(m.generate(idx=torch.zeros((1, 1), dtype=torch.long), max_new_tokens=500)[0].tolist()))"
   ]
  },
  {
   "cell_type": "markdown",
   "metadata": {
    "id": "XinV8nmAnmKN"
   },
   "source": [
    "## The mathematical trick in self-attention"
   ]
  },
  {
   "cell_type": "code",
   "execution_count": 18,
   "metadata": {
    "ExecuteTime": {
     "end_time": "2024-04-18T10:04:34.287696Z",
     "start_time": "2024-04-18T10:04:34.274350Z"
    },
    "colab": {
     "base_uri": "https://localhost:8080/"
    },
    "id": "tukiH-NbRBhA",
    "outputId": "d981f6d4-ac08-4ec2-8284-82f5fa1e0815"
   },
   "outputs": [
    {
     "name": "stdout",
     "output_type": "stream",
     "text": [
      "a=\n",
      "tensor([[1.0000, 0.0000, 0.0000],\n",
      "        [0.5000, 0.5000, 0.0000],\n",
      "        [0.3333, 0.3333, 0.3333]])\n",
      "--\n",
      "b=\n",
      "tensor([[2., 7.],\n",
      "        [6., 4.],\n",
      "        [6., 5.]])\n",
      "--\n",
      "c=\n",
      "tensor([[2.0000, 7.0000],\n",
      "        [4.0000, 5.5000],\n",
      "        [4.6667, 5.3333]])\n"
     ]
    }
   ],
   "source": [
    "# toy example illustrating how matrix multiplication can be used for a \"weighted aggregation\"\n",
    "torch.manual_seed(42)\n",
    "# Causal attention does not take into account future information\n",
    "a = torch.tril(torch.ones(3, 3))\n",
    "a = a / torch.sum(a, 1, keepdim=True)\n",
    "b = torch.randint(0, 10, (3, 2)).float()\n",
    "c = a @ b\n",
    "print('a=')\n",
    "print(a)\n",
    "print('--')\n",
    "print('b=')\n",
    "print(b)\n",
    "print('--')\n",
    "print('c=')\n",
    "print(c)"
   ]
  },
  {
   "cell_type": "code",
   "execution_count": 19,
   "metadata": {
    "ExecuteTime": {
     "end_time": "2024-04-18T10:04:35.757818Z",
     "start_time": "2024-04-18T10:04:35.750440Z"
    },
    "colab": {
     "base_uri": "https://localhost:8080/"
    },
    "id": "Hs_E24uRE8kr",
    "outputId": "8bf3ff5f-565e-48b8-de8e-7272706c8e12"
   },
   "outputs": [
    {
     "data": {
      "text/plain": [
       "torch.Size([4, 8, 2])"
      ]
     },
     "execution_count": 19,
     "metadata": {},
     "output_type": "execute_result"
    }
   ],
   "source": [
    "# consider the following toy example:\n",
    "\n",
    "torch.manual_seed(1337)\n",
    "B, T, C = 4, 8, 2  # batch, time, channels\n",
    "x = torch.randn(B, T, C)\n",
    "x.shape"
   ]
  },
  {
   "cell_type": "code",
   "execution_count": 20,
   "metadata": {
    "ExecuteTime": {
     "end_time": "2024-04-18T10:04:37.597716Z",
     "start_time": "2024-04-18T10:04:37.589303Z"
    },
    "id": "86NuXX0fn7ps"
   },
   "outputs": [],
   "source": [
    "# We want $x[b,t] = mean_{i<=t} x[b,i]$\n",
    "xbow = torch.zeros((B, T, C))\n",
    "for b in range(B):\n",
    "    for t in range(T):\n",
    "        xprev = x[b, :t + 1]  # (t,C)\n",
    "        xbow[b, t] = torch.mean(xprev, 0)"
   ]
  },
  {
   "cell_type": "code",
   "execution_count": 21,
   "metadata": {
    "ExecuteTime": {
     "end_time": "2024-04-18T10:04:38.549976Z",
     "start_time": "2024-04-18T10:04:38.543326Z"
    },
    "colab": {
     "base_uri": "https://localhost:8080/"
    },
    "id": "yhdOAd6-wXkZ",
    "outputId": "eaf6ab61-dff1-4bb7-e623-47f692bad5f9"
   },
   "outputs": [
    {
     "data": {
      "text/plain": [
       "False"
      ]
     },
     "execution_count": 21,
     "metadata": {},
     "output_type": "execute_result"
    }
   ],
   "source": [
    "# version 2: using matrix multiply for a weighted aggregation\n",
    "wei = torch.tril(torch.ones(T, T))\n",
    "wei = wei / wei.sum(1, keepdim=True)\n",
    "xbow2 = wei @ x  # (B, T, T) @ (B, T, C) ----> (B, T, C)\n",
    "torch.allclose(xbow, xbow2)"
   ]
  },
  {
   "cell_type": "code",
   "execution_count": 22,
   "metadata": {
    "ExecuteTime": {
     "end_time": "2024-04-18T10:04:39.799510Z",
     "start_time": "2024-04-18T10:04:39.789420Z"
    },
    "colab": {
     "base_uri": "https://localhost:8080/"
    },
    "id": "wOURrfG-ysoL",
    "outputId": "080b500d-8110-4602-fcef-7d6f2ebfc6bc"
   },
   "outputs": [
    {
     "data": {
      "text/plain": [
       "False"
      ]
     },
     "execution_count": 22,
     "metadata": {},
     "output_type": "execute_result"
    }
   ],
   "source": [
    "# version 3: use Softmax\n",
    "tril = torch.tril(torch.ones(T, T))\n",
    "wei = torch.zeros((T, T))\n",
    "# This seems strange at first glance but exp(-inf) = 0 and it is well defined, otherwise training would get broken constantly\n",
    "wei = wei.masked_fill(tril == 0, float('-inf'))\n",
    "wei = F.softmax(wei, dim=-1)\n",
    "xbow3 = wei @ x\n",
    "torch.allclose(xbow, xbow3)"
   ]
  },
  {
   "cell_type": "code",
   "execution_count": 23,
   "metadata": {
    "ExecuteTime": {
     "end_time": "2024-04-18T10:04:40.749584Z",
     "start_time": "2024-04-18T10:04:40.734139Z"
    },
    "colab": {
     "base_uri": "https://localhost:8080/"
    },
    "id": "EDarxEWIRMKq",
    "outputId": "07b587dd-a91c-4bb0-d7f1-e247cd5dacb5"
   },
   "outputs": [
    {
     "data": {
      "text/plain": [
       "torch.Size([4, 8, 16])"
      ]
     },
     "execution_count": 23,
     "metadata": {},
     "output_type": "execute_result"
    }
   ],
   "source": [
    "# version 4: self-attention!\n",
    "torch.manual_seed(1337)\n",
    "B, T, C = 4, 8, 32  # batch, time, channels\n",
    "x = torch.randn(B, T, C)\n",
    "\n",
    "# let's see a single Head perform self-attention\n",
    "head_size = 16\n",
    "key = nn.Linear(C, head_size, bias=False)\n",
    "query = nn.Linear(C, head_size, bias=False)\n",
    "value = nn.Linear(C, head_size, bias=False)\n",
    "k = key(x)  # (B, T, 16)\n",
    "q = query(x)  # (B, T, 16)\n",
    "wei = q @ k.transpose(-2, -1)  # (B, T, 16) @ (B, 16, T) ---> (B, T, T)\n",
    "\n",
    "tril = torch.tril(torch.ones(T, T))\n",
    "# wei = torch.zeros((T,T))\n",
    "# Full matrix multiplication is faster, just block what we do not need\n",
    "wei = wei.masked_fill(tril == 0, float('-inf'))\n",
    "wei = F.softmax(wei, dim=-1)\n",
    "\n",
    "v = value(x)\n",
    "out = wei @ v\n",
    "# out = wei @ x\n",
    "\n",
    "out.shape"
   ]
  },
  {
   "cell_type": "code",
   "execution_count": null,
   "metadata": {
    "ExecuteTime": {
     "end_time": "2024-04-18T10:04:43.040504Z",
     "start_time": "2024-04-18T10:04:43.037300Z"
    }
   },
   "outputs": [],
   "source": []
  },
  {
   "cell_type": "code",
   "execution_count": 24,
   "metadata": {
    "ExecuteTime": {
     "end_time": "2024-04-18T10:04:44.061674Z",
     "start_time": "2024-04-18T10:04:44.053844Z"
    },
    "colab": {
     "base_uri": "https://localhost:8080/"
    },
    "id": "vT1hdtzXCjgL",
    "outputId": "6d2c569b-7922-451f-9934-0fc564678d17"
   },
   "outputs": [
    {
     "data": {
      "text/plain": [
       "tensor([[1.0000, 0.0000, 0.0000, 0.0000, 0.0000, 0.0000, 0.0000, 0.0000],\n",
       "        [0.1574, 0.8426, 0.0000, 0.0000, 0.0000, 0.0000, 0.0000, 0.0000],\n",
       "        [0.2088, 0.1646, 0.6266, 0.0000, 0.0000, 0.0000, 0.0000, 0.0000],\n",
       "        [0.5792, 0.1187, 0.1889, 0.1131, 0.0000, 0.0000, 0.0000, 0.0000],\n",
       "        [0.0294, 0.1052, 0.0469, 0.0276, 0.7909, 0.0000, 0.0000, 0.0000],\n",
       "        [0.0176, 0.2689, 0.0215, 0.0089, 0.6812, 0.0019, 0.0000, 0.0000],\n",
       "        [0.1691, 0.4066, 0.0438, 0.0416, 0.1048, 0.2012, 0.0329, 0.0000],\n",
       "        [0.0210, 0.0843, 0.0555, 0.2297, 0.0573, 0.0709, 0.2423, 0.2391]],\n",
       "       grad_fn=<SelectBackward0>)"
      ]
     },
     "execution_count": 24,
     "metadata": {},
     "output_type": "execute_result"
    }
   ],
   "source": [
    "wei[0]"
   ]
  },
  {
   "cell_type": "markdown",
   "metadata": {
    "id": "M5CvobiQ0pLr"
   },
   "source": [
    "Notes:\n",
    "- Attention is a **communication mechanism**. Can be seen as nodes in a directed graph looking at each other and aggregating information with a weighted sum from all nodes that point to them, with data-dependent weights.\n",
    "- There is no notion of space. Attention simply acts over a set of vectors. This is why we need to positionally encode tokens.\n",
    "- Each example across batch dimension is of course processed completely independently and never \"talk\" to each other\n",
    "- In an \"encoder\" attention block just delete the single line that does masking with `tril`, allowing all tokens to communicate. This block here is called a \"decoder\" attention block because it has triangular masking, and is usually used in autoregressive settings, like language modeling.\n",
    "- \"self-attention\" just means that the keys and values are produced from the same source as queries. In \"cross-attention\", the queries still get produced from x, but the keys and values come from some other, external source (e.g. an encoder module)\n",
    "- \"Scaled\" attention additionally divides `wei` by 1/sqrt(head_size). This makes it so when input Q,K are unit variance, wei will be unit variance too and Softmax will stay diffuse and not saturate too much. Illustration below"
   ]
  },
  {
   "cell_type": "code",
   "execution_count": 25,
   "metadata": {
    "ExecuteTime": {
     "end_time": "2024-04-18T10:04:47.598043Z",
     "start_time": "2024-04-18T10:04:47.592161Z"
    },
    "id": "4SNbLq5z3oBw"
   },
   "outputs": [],
   "source": [
    "# head_size is the dimension of \"latent space\"\n",
    "k = torch.randn(B, T, head_size)\n",
    "q = torch.randn(B, T, head_size)\n",
    "wei = q @ k.transpose(-2, -1) * head_size ** -0.5"
   ]
  },
  {
   "cell_type": "code",
   "execution_count": 26,
   "metadata": {
    "ExecuteTime": {
     "end_time": "2024-04-18T10:04:48.557897Z",
     "start_time": "2024-04-18T10:04:48.550456Z"
    },
    "colab": {
     "base_uri": "https://localhost:8080/"
    },
    "id": "Nl6I9n9IRTSo",
    "outputId": "0c5b9cd0-af8a-4564-fbad-41d844e54822"
   },
   "outputs": [
    {
     "data": {
      "text/plain": [
       "tensor(1.0449)"
      ]
     },
     "execution_count": 26,
     "metadata": {},
     "output_type": "execute_result"
    }
   ],
   "source": [
    "k.var()"
   ]
  },
  {
   "cell_type": "code",
   "execution_count": 27,
   "metadata": {
    "ExecuteTime": {
     "end_time": "2024-04-18T10:04:49.009300Z",
     "start_time": "2024-04-18T10:04:49.002554Z"
    },
    "colab": {
     "base_uri": "https://localhost:8080/"
    },
    "id": "T1tQx7oeRvtc",
    "outputId": "3541ca1a-7447-4ef7-835e-81824aebc1b5"
   },
   "outputs": [
    {
     "data": {
      "text/plain": [
       "tensor(1.0700)"
      ]
     },
     "execution_count": 27,
     "metadata": {},
     "output_type": "execute_result"
    }
   ],
   "source": [
    "q.var()"
   ]
  },
  {
   "cell_type": "code",
   "execution_count": 28,
   "metadata": {
    "ExecuteTime": {
     "end_time": "2024-04-18T10:04:49.482165Z",
     "start_time": "2024-04-18T10:04:49.473075Z"
    },
    "colab": {
     "base_uri": "https://localhost:8080/"
    },
    "id": "MLb_odHU3iKM",
    "outputId": "a687a222-5a2c-4cdb-c1bf-17cd05b45b69"
   },
   "outputs": [
    {
     "data": {
      "text/plain": [
       "tensor(1.0918)"
      ]
     },
     "execution_count": 28,
     "metadata": {},
     "output_type": "execute_result"
    }
   ],
   "source": [
    "wei.var()"
   ]
  },
  {
   "cell_type": "code",
   "execution_count": 29,
   "metadata": {
    "ExecuteTime": {
     "end_time": "2024-04-18T10:04:50.125578Z",
     "start_time": "2024-04-18T10:04:50.119668Z"
    },
    "colab": {
     "base_uri": "https://localhost:8080/"
    },
    "id": "JB82yzt44REI",
    "outputId": "f07da2f1-10bb-4a7a-bcaa-578587977d00"
   },
   "outputs": [
    {
     "data": {
      "text/plain": [
       "tensor([0.1925, 0.1426, 0.2351, 0.1426, 0.2872])"
      ]
     },
     "execution_count": 29,
     "metadata": {},
     "output_type": "execute_result"
    }
   ],
   "source": [
    "torch.softmax(torch.tensor([0.1, -0.2, 0.3, -0.2, 0.5]), dim=-1)"
   ]
  },
  {
   "cell_type": "code",
   "execution_count": 30,
   "metadata": {
    "ExecuteTime": {
     "end_time": "2024-04-18T10:04:50.774492Z",
     "start_time": "2024-04-18T10:04:50.768770Z"
    },
    "colab": {
     "base_uri": "https://localhost:8080/"
    },
    "id": "Mpt8569BB9_f",
    "outputId": "5d8b910a-6192-44ba-ebb2-497d88e0b629"
   },
   "outputs": [
    {
     "data": {
      "text/plain": [
       "tensor([0.0326, 0.0030, 0.1615, 0.0030, 0.8000])"
      ]
     },
     "execution_count": 30,
     "metadata": {},
     "output_type": "execute_result"
    }
   ],
   "source": [
    "torch.softmax(torch.tensor([0.1, -0.2, 0.3, -0.2, 0.5]) * 8, dim=-1)  # gets too peaky, converges to one-hot"
   ]
  },
  {
   "cell_type": "code",
   "execution_count": 31,
   "metadata": {
    "ExecuteTime": {
     "end_time": "2024-04-18T10:04:51.425350Z",
     "start_time": "2024-04-18T10:04:51.416960Z"
    },
    "colab": {
     "base_uri": "https://localhost:8080/"
    },
    "id": "2Num7sX9CKOH",
    "outputId": "929ceb78-a639-41d6-aac7-12997b5c93f0"
   },
   "outputs": [
    {
     "data": {
      "text/plain": [
       "torch.Size([32, 100])"
      ]
     },
     "execution_count": 31,
     "metadata": {},
     "output_type": "execute_result"
    }
   ],
   "source": [
    "class LayerNorm1d:  # (used to be BatchNorm1d)\n",
    "\n",
    "    def __init__(self, dim, eps=1e-5, momentum=0.1):\n",
    "        self.eps = eps\n",
    "        self.gamma = torch.ones(dim)\n",
    "        self.beta = torch.zeros(dim)\n",
    "\n",
    "    def __call__(self, x):\n",
    "        # calculate the forward pass\n",
    "        xmean = x.mean(1, keepdim=True)  # batch mean\n",
    "        xvar = x.var(1, keepdim=True)  # batch variance\n",
    "        xhat = (x - xmean) / torch.sqrt(xvar + self.eps)  # normalize to unit variance\n",
    "        self.out = self.gamma * xhat + self.beta\n",
    "        return self.out\n",
    "\n",
    "    def parameters(self):\n",
    "        return [self.gamma, self.beta]\n",
    "\n",
    "\n",
    "torch.manual_seed(1337)\n",
    "module = LayerNorm1d(100)\n",
    "# batch_norm_1d = nn.BatchNorm1d(100)\n",
    "# x_normalized_torch = batch_norm_1d(x)\n",
    "\n",
    "x = torch.randn(32, 100)  # batch size 32 of 100-dimensional vectors\n",
    "x_normalized = module(x)\n",
    "x_normalized.shape"
   ]
  },
  {
   "cell_type": "code",
   "execution_count": null,
   "metadata": {},
   "outputs": [],
   "source": []
  },
  {
   "cell_type": "code",
   "execution_count": 32,
   "metadata": {
    "colab": {
     "base_uri": "https://localhost:8080/"
    },
    "id": "633T2cmnW1uk",
    "outputId": "7720fa58-0478-4e8a-86a7-502d4cce9443"
   },
   "outputs": [
    {
     "data": {
      "text/plain": [
       "(tensor(0.1392), tensor(0.8899))"
      ]
     },
     "execution_count": 32,
     "metadata": {},
     "output_type": "execute_result"
    }
   ],
   "source": [
    "x[:, 0].mean(), x[:, 0].std()  # mean,std of one feature across all batch inputs"
   ]
  },
  {
   "cell_type": "code",
   "execution_count": 33,
   "metadata": {
    "colab": {
     "base_uri": "https://localhost:8080/"
    },
    "id": "LN9cK9BoXCYb",
    "outputId": "6368ece0-600e-417d-8a91-7c1e5d750ba8"
   },
   "outputs": [
    {
     "data": {
      "text/plain": [
       "(tensor(0.0409), tensor(1.0476))"
      ]
     },
     "execution_count": 33,
     "metadata": {},
     "output_type": "execute_result"
    }
   ],
   "source": [
    "x[0, :].mean(), x[0, :].std()  # mean,std of a single input from the batch, of its features"
   ]
  },
  {
   "cell_type": "code",
   "execution_count": 34,
   "metadata": {
    "id": "dRJH6wM_XFfU",
    "lines_to_next_cell": 2
   },
   "outputs": [],
   "source": [
    "# French to English translation example:\n",
    "\n",
    "# <--------- ENCODE ------------------><--------------- DECODE ----------------->\n",
    "# les réseaux de neurones sont géniaux! <START> neural networks are awesome!<END>"
   ]
  },
  {
   "cell_type": "markdown",
   "metadata": {
    "id": "ZcvKeBXoZFOY"
   },
   "source": [
    "### Full finished code, for reference\n",
    "\n",
    "You may want to refer directly to the git repo instead though."
   ]
  },
  {
   "cell_type": "code",
   "execution_count": 35,
   "metadata": {
    "ExecuteTime": {
     "end_time": "2024-04-18T12:38:44.597151Z",
     "start_time": "2024-04-18T12:32:10.934438Z"
    },
    "colab": {
     "base_uri": "https://localhost:8080/"
    },
    "id": "hoelkOrFY8bN",
    "lines_to_next_cell": 2,
    "outputId": "961304cd-e379-40d4-dd56-8de0b91d2861"
   },
   "outputs": [
    {
     "name": "stdout",
     "output_type": "stream",
     "text": [
      "0.215873 M parameters\n",
      "step 0: train loss 4.3254, val loss 4.3198\n",
      "step 100: train loss 2.5600, val loss 2.5620\n",
      "step 200: train loss 2.4232, val loss 2.4276\n",
      "step 300: train loss 2.2731, val loss 2.2882\n",
      "step 400: train loss 2.1599, val loss 2.1881\n",
      "step 500: train loss 2.0462, val loss 2.0977\n",
      "step 600: train loss 1.9539, val loss 2.0254\n",
      "step 700: train loss 1.8708, val loss 1.9669\n",
      "step 800: train loss 1.8075, val loss 1.9265\n",
      "step 900: train loss 1.7639, val loss 1.8996\n",
      "step 1000: train loss 1.7138, val loss 1.8639\n",
      "step 1100: train loss 1.6799, val loss 1.8366\n",
      "step 1200: train loss 1.6495, val loss 1.8171\n",
      "step 1300: train loss 1.6253, val loss 1.7901\n",
      "step 1400: train loss 1.6056, val loss 1.7831\n",
      "step 1500: train loss 1.5937, val loss 1.7649\n",
      "step 1600: train loss 1.5675, val loss 1.7471\n",
      "step 1700: train loss 1.5596, val loss 1.7430\n",
      "step 1800: train loss 1.5432, val loss 1.7324\n",
      "step 1900: train loss 1.5295, val loss 1.7198\n",
      "step 2000: train loss 1.5209, val loss 1.7141\n",
      "step 2100: train loss 1.5125, val loss 1.7100\n",
      "step 2200: train loss 1.5057, val loss 1.7036\n",
      "step 2300: train loss 1.4972, val loss 1.6989\n",
      "step 2400: train loss 1.5017, val loss 1.7052\n",
      "step 2500: train loss 1.4788, val loss 1.6915\n",
      "step 2600: train loss 1.4783, val loss 1.6897\n",
      "step 2700: train loss 1.4680, val loss 1.6796\n",
      "step 2800: train loss 1.4690, val loss 1.6847\n",
      "step 2900: train loss 1.4657, val loss 1.6848\n",
      "step 3000: train loss 1.4583, val loss 1.6755\n",
      "step 3100: train loss 1.4511, val loss 1.6711\n",
      "step 3200: train loss 1.4423, val loss 1.6699\n",
      "step 3300: train loss 1.4397, val loss 1.6653\n",
      "step 3400: train loss 1.4379, val loss 1.6670\n",
      "step 3500: train loss 1.4387, val loss 1.6658\n",
      "step 3600: train loss 1.4324, val loss 1.6644\n",
      "step 3700: train loss 1.4373, val loss 1.6753\n",
      "step 3800: train loss 1.4368, val loss 1.6735\n",
      "step 3900: train loss 1.4280, val loss 1.6606\n",
      "step 4000: train loss 1.4182, val loss 1.6546\n",
      "step 4100: train loss 1.4152, val loss 1.6576\n",
      "step 4200: train loss 1.4103, val loss 1.6493\n",
      "step 4300: train loss 1.4107, val loss 1.6541\n",
      "step 4400: train loss 1.4070, val loss 1.6480\n",
      "step 4500: train loss 1.4079, val loss 1.6546\n",
      "step 4600: train loss 1.4007, val loss 1.6493\n",
      "step 4700: train loss 1.4011, val loss 1.6473\n",
      "step 4800: train loss 1.3991, val loss 1.6462\n",
      "step 4900: train loss 1.3944, val loss 1.6454\n",
      "step 5000: train loss 1.3910, val loss 1.6423\n",
      "step 5100: train loss 1.3937, val loss 1.6460\n",
      "step 5200: train loss 1.3922, val loss 1.6466\n",
      "step 5300: train loss 1.3891, val loss 1.6476\n",
      "step 5400: train loss 1.3853, val loss 1.6426\n",
      "step 5500: train loss 1.3806, val loss 1.6390\n",
      "step 5600: train loss 1.3917, val loss 1.6519\n",
      "step 5700: train loss 1.3813, val loss 1.6436\n",
      "step 5800: train loss 1.3840, val loss 1.6437\n",
      "step 5900: train loss 1.3801, val loss 1.6430\n",
      "step 6000: train loss 1.3750, val loss 1.6401\n",
      "step 6100: train loss 1.3709, val loss 1.6355\n",
      "step 6200: train loss 1.3721, val loss 1.6365\n",
      "step 6300: train loss 1.3685, val loss 1.6341\n",
      "step 6400: train loss 1.3709, val loss 1.6338\n",
      "step 6500: train loss 1.3636, val loss 1.6296\n",
      "step 6600: train loss 1.3659, val loss 1.6315\n",
      "step 6700: train loss 1.3622, val loss 1.6283\n",
      "step 6800: train loss 1.3635, val loss 1.6318\n",
      "step 6900: train loss 1.3647, val loss 1.6374\n",
      "step 7000: train loss 1.3653, val loss 1.6358\n",
      "step 7100: train loss 1.3614, val loss 1.6366\n",
      "step 7200: train loss 1.3581, val loss 1.6324\n",
      "step 7300: train loss 1.3528, val loss 1.6317\n",
      "step 7400: train loss 1.3544, val loss 1.6292\n",
      "step 7500: train loss 1.3523, val loss 1.6288\n",
      "step 7600: train loss 1.3500, val loss 1.6294\n",
      "step 7700: train loss 1.3504, val loss 1.6278\n",
      "step 7800: train loss 1.3503, val loss 1.6281\n",
      "step 7900: train loss 1.3431, val loss 1.6207\n",
      "step 8000: train loss 1.3466, val loss 1.6252\n",
      "step 8100: train loss 1.3486, val loss 1.6304\n",
      "step 8200: train loss 1.3413, val loss 1.6257\n",
      "step 8300: train loss 1.3434, val loss 1.6233\n",
      "step 8400: train loss 1.3417, val loss 1.6285\n",
      "step 8500: train loss 1.3397, val loss 1.6190\n",
      "step 8600: train loss 1.3404, val loss 1.6283\n",
      "step 8700: train loss 1.3382, val loss 1.6265\n",
      "step 8800: train loss 1.3364, val loss 1.6270\n",
      "step 8900: train loss 1.3345, val loss 1.6193\n",
      "step 9000: train loss 1.3342, val loss 1.6248\n",
      "step 9100: train loss 1.3363, val loss 1.6275\n",
      "step 9200: train loss 1.3332, val loss 1.6228\n",
      "step 9300: train loss 1.3345, val loss 1.6238\n",
      "step 9400: train loss 1.3334, val loss 1.6260\n",
      "step 9500: train loss 1.3359, val loss 1.6290\n",
      "step 9600: train loss 1.3313, val loss 1.6245\n",
      "step 9700: train loss 1.3268, val loss 1.6246\n",
      "step 9800: train loss 1.3321, val loss 1.6256\n",
      "step 9900: train loss 1.3272, val loss 1.6196\n",
      "step 9999: train loss 1.3266, val loss 1.6243\n",
      "\n",
      "\n",
      "YORK:\n",
      "I beggan in This name King Peter, and envy\n",
      "grades the change art that us he had beck:\n",
      "As was, away, my facts arrizons heavens,\n",
      "How is he cover heldly, and if the neck. Take my lieve to the\n",
      "Will may in wabgunel lind tear.\n",
      "\n",
      "AUFIDIUS:\n",
      "What! O have plaw you:'ld me not\n",
      "To tell I will the shamed again Willohed their king.\n",
      "\n",
      "GRUMIO:\n",
      "Even his no the comes for under danger,\n",
      "Which arms you must with all on,\n",
      "To fight? grant nor furscience you acharding again,\n",
      "For hither to mark no Rutland, and for his needy out\n",
      "Is yourselves gatesman; a they arms? what the men.\n",
      "Was mayst thou sworn to the dead of cour speaks\n",
      "For mighty my castle lack and sorted and hellow.\n",
      "Lading to Leond more over Heifts, upon thou fest.\n",
      "As not controves, she shall look to entrough.\n",
      "\n",
      "KING HENRY VI:\n",
      "Heaving with kill it bump whose told lady.\n",
      "\n",
      "Provost:\n",
      "He had abhold. I know the no none Captuluse: I do it is\n",
      "outhfunance eyes and approach'd when no mother.\n",
      "\n",
      "GLOUCESTER:\n",
      "Hoour lord, why, because I, thus wounder for Gloucester.\n",
      "Yet I am a runse. This I husband; go whil though,\n",
      "Look not take all the went should men,\n",
      "True thinks and endly in it infected greates,\n",
      "But now, call King Henry's fatnerment their\n",
      "Of prayer be any inkering lament tell thee expection not myself.\n",
      "\n",
      "BUCKINGHAM:\n",
      "The time for Hereford!\n",
      "Then lands! then often foolish'd her wantsrified?\n",
      "\n",
      "Second Kench English clock?\n",
      "\n",
      "KING EDWARD IV:\n",
      "My love the begun,\n",
      "Good queen the to the lave's else of my lorious numblemen'd,\n",
      "The people, age finger I attend are holess!\n",
      "\n",
      "ROMEO:\n",
      "If they shut be the shall, as I tho\n",
      "matter virtuce!\n",
      "Country thee till thee world, she worse, who drink?\n",
      "\n",
      "MARCIUS:\n",
      "Let fortune.\n",
      "\n",
      "BENVOLIO:\n",
      "I am wound are to-marriage,\n",
      "Beath, could hither of some to, my hearth; can\n",
      "hard I'ld not father.\n",
      "\n",
      "LUCIO:\n",
      "I have power, Hastings Lanca.\n",
      "\n",
      "PRINCE:\n",
      "Our whiptee, before a gentle!\n",
      "\n",
      "CLARENCE:\n",
      "'Fitter like he punish'd, go to the autch'd:\n",
      "And fancy you, yet it an any any sent,\n",
      "But battle comfort, Juliet pardon.\n",
      "\n",
      "ISABELLA:\n",
      "O'I fight he to the good the world and u\n"
     ]
    }
   ],
   "source": [
    "import torch\n",
    "import torch.nn as nn\n",
    "from torch.nn import functional as F\n",
    "\n",
    "# hyperparameters\n",
    "batch_size = 1024 # 16  # how many independent sequences will we process in parallel?\n",
    "block_size = 128 # 32  # what is the maximum context length for predictions?\n",
    "max_iters = 10000\n",
    "eval_interval = 100\n",
    "learning_rate = 1e-3\n",
    "device = 'cuda' if torch.cuda.is_available() else 'cpu'\n",
    "eval_iters = 200\n",
    "n_embd = 64\n",
    "n_head = 4\n",
    "n_layer = 4\n",
    "dropout = 0.0\n",
    "# ------------\n",
    "\n",
    "torch.manual_seed(1337)\n",
    "\n",
    "# wget https://raw.githubusercontent.com/karpathy/char-rnn/master/data/tinyshakespeare/input.txt\n",
    "with open('input.txt', 'r', encoding='utf-8') as f:\n",
    "    text = f.read()\n",
    "\n",
    "# here are all the unique characters that occur in this text\n",
    "chars = sorted(list(set(text)))\n",
    "vocab_size = len(chars)\n",
    "# create a mapping from characters to integers\n",
    "stoi = {ch: i for i, ch in enumerate(chars)}\n",
    "itos = {i: ch for i, ch in enumerate(chars)}\n",
    "encode = lambda s: [stoi[c] for c in s]  # encoder: take a string, output a list of integers\n",
    "decode = lambda l: ''.join([itos[i] for i in l])  # decoder: take a list of integers, output a string\n",
    "\n",
    "# Train and test splits\n",
    "data = torch.tensor(encode(text), dtype=torch.long)\n",
    "n = int(0.9 * len(data))  # first 90% will be train, rest val\n",
    "train_data = data[:n]\n",
    "val_data = data[n:]\n",
    "\n",
    "\n",
    "# data loading\n",
    "def get_batch(split):\n",
    "    # generate a small batch of data of inputs x and targets y\n",
    "    data = train_data if split == 'train' else val_data\n",
    "    ix = torch.randint(len(data) - block_size, (batch_size,))\n",
    "    x = torch.stack([data[i:i + block_size] for i in ix])\n",
    "    y = torch.stack([data[i + 1:i + block_size + 1] for i in ix])\n",
    "    x, y = x.to(device), y.to(device)\n",
    "    return x, y\n",
    "\n",
    "\n",
    "@torch.no_grad()\n",
    "def estimate_loss():\n",
    "    out = {}\n",
    "    model.eval()\n",
    "    for split in ['train', 'val']:\n",
    "        losses = torch.zeros(eval_iters)\n",
    "        for k in range(eval_iters):\n",
    "            X, Y = get_batch(split)\n",
    "            logits, loss = model(X, Y)\n",
    "            losses[k] = loss.item()\n",
    "        out[split] = losses.mean()\n",
    "    model.train()\n",
    "    return out\n",
    "\n",
    "\n",
    "class Head(nn.Module):\n",
    "    \"\"\" one head of self-attention\n",
    "        https://magazine.sebastianraschka.com/p/understanding-and-coding-self-attention\n",
    "    \"\"\"\n",
    "\n",
    "    def __init__(self, head_size):\n",
    "        super().__init__()\n",
    "        self.key = nn.Linear(n_embd, head_size, bias=False)\n",
    "        self.query = nn.Linear(n_embd, head_size, bias=False)\n",
    "        self.value = nn.Linear(n_embd, head_size, bias=False)\n",
    "        # This limits us to the maximal context block_size\n",
    "        self.register_buffer('tril', torch.tril(torch.ones(block_size, block_size)))\n",
    "\n",
    "        self.dropout = nn.Dropout(dropout)\n",
    "\n",
    "    def forward(self, x):\n",
    "        B, T, C = x.shape\n",
    "        k = self.key(x)  # (B,T,C=n_embd) -> (B,T,C=head_size)\n",
    "        q = self.query(x)  # (B,T,C=n_embd) -> (B,T,C=head_size)\n",
    "        # compute attention scores (\"affinities\")\n",
    "        wei = q @ k.transpose(-2, -1) * C ** -0.5  # (B, T, C=head_size) @ (B, C=head_size), T) -> (B, T, T)\n",
    "        wei = wei.masked_fill(self.tril[:T, :T] == 0, float('-inf'))  # (B, T, T)\n",
    "        wei = F.softmax(wei, dim=-1)  # (B, T, T)\n",
    "        # The drop out is over full matrix, alternatively it would be better to just drop on mask, this is biased\n",
    "        # Also it seems maybe conceptually we should just do symmetric dropout\n",
    "        wei = self.dropout(wei)\n",
    "        # perform the weighted aggregation of the values\n",
    "        v = self.value(x)  # (B,T,C=head_size)\n",
    "        # The matrix multiplication is batched and applied on last two dimensions!\n",
    "        out = wei @ v  # (B, T, T) @ (B, T, C=head_size) -> (B, T, C=head_size)\n",
    "        return out\n",
    "\n",
    "\n",
    "class MultiHeadAttention(nn.Module):\n",
    "    \"\"\" multiple heads of self-attention in parallel \"\"\"\n",
    "\n",
    "    def __init__(self, num_heads, head_size):\n",
    "        super().__init__()\n",
    "        self.heads = nn.ModuleList([Head(head_size) for _ in range(num_heads)])\n",
    "        # Projection back to residual pathway, align the basis\n",
    "        self.proj = nn.Linear(n_embd, n_embd)\n",
    "        self.dropout = nn.Dropout(dropout)\n",
    "\n",
    "    def forward(self, x):\n",
    "        out = torch.cat([h(x) for h in self.heads], dim=-1)\n",
    "        out = self.dropout(self.proj(out))\n",
    "        return out\n",
    "\n",
    "\n",
    "class FeedFoward(nn.Module):\n",
    "    \"\"\" a simple linear layer followed by a non-linearity \"\"\"\n",
    "\n",
    "    def __init__(self, n_embd):\n",
    "        super().__init__()\n",
    "        self.net = nn.Sequential(\n",
    "            nn.Linear(n_embd, 4 * n_embd),\n",
    "            nn.ReLU(),\n",
    "            nn.Linear(4 * n_embd, n_embd), # Projection back to residual pathway\n",
    "            nn.Dropout(dropout),\n",
    "        )\n",
    "\n",
    "    def forward(self, x):\n",
    "        return self.net(x)\n",
    "\n",
    "\n",
    "class Block(nn.Module):\n",
    "    \"\"\" Transformer block: communication followed by computation \"\"\"\n",
    "\n",
    "    def __init__(self, n_embd: int, n_head: int):\n",
    "        # n_embd: embedding dimension, n_head: the number of heads we'd like\n",
    "        super().__init__()\n",
    "        # To guarantee that final concatenated embedding is of size n_embd \n",
    "        head_size = n_embd // n_head\n",
    "        self.sa = MultiHeadAttention(n_head, head_size)\n",
    "        self.ffwd = FeedFoward(n_embd)\n",
    "        self.ln1 = nn.LayerNorm(n_embd)\n",
    "        self.ln2 = nn.LayerNorm(n_embd)\n",
    "\n",
    "    def forward(self, x):\n",
    "        # Skip connections added to improve the flow of gradient\n",
    "        # Need to project back to residual pathway in sa and ffwd to \"align bases\" \n",
    "        \n",
    "        # Modern way is do to layer norm before and not after, in original paper it was done after, we do before!\n",
    "        x = x + self.sa(self.ln1(x))\n",
    "        x = x + self.ffwd(self.ln2(x))\n",
    "        return x\n",
    "\n",
    "\n",
    "# Not so super simple and not bigram model anymore\n",
    "class BigramLanguageModel(nn.Module):\n",
    "\n",
    "    def __init__(self):\n",
    "        super().__init__()\n",
    "        # each token is mapped to latent space of size n_embd\n",
    "        self.token_embedding_table = nn.Embedding(vocab_size, n_embd)\n",
    "        # learnable position embedding for positions 0, ..., block_size - 1\n",
    "        self.position_embedding_table = nn.Embedding(block_size, n_embd)\n",
    "        # Modern way of handling this is:\n",
    "        # https://machinelearningmastery.com/a-gentle-introduction-to-positional-encoding-in-transformer-models-part-1/\n",
    "        # https://afterhoursresearch.hashnode.dev/rope-rotary-positional-embedding\n",
    "        self.blocks = nn.Sequential(*[Block(n_embd, n_head=n_head) for _ in range(n_layer)])\n",
    "        self.ln_f = nn.LayerNorm(n_embd)  # final layer norm\n",
    "        self.lm_head = nn.Linear(n_embd, vocab_size, bias=False)\n",
    "\n",
    "    def forward(self, idx, targets=None):\n",
    "        B, T = idx.shape\n",
    "\n",
    "        # idx and targets are both (B,T) tensor of integers\n",
    "        tok_emb = self.token_embedding_table(idx)  # (B,T,C=n_embd)\n",
    "        pos_emb = self.position_embedding_table(torch.arange(T, device=device))  # (T,C=n_embd)\n",
    "        x = tok_emb + pos_emb  # (B,T,C=n_embd)\n",
    "        x = self.blocks(x)  # (B,T,C=n_embd)\n",
    "        # Modern way is do to layer norm before and not after, in original paper it was done after, we do before!\n",
    "        x = self.ln_f(x)  # (B,T,C=n_embd)\n",
    "        logits = self.lm_head(x)  # (B,T,vocab_size)\n",
    "\n",
    "        if targets is None:\n",
    "            loss = None\n",
    "        else:\n",
    "            B, T, C = logits.shape\n",
    "            logits = logits.view(B * T, C)\n",
    "            targets = targets.view(B * T)\n",
    "            loss = F.cross_entropy(logits, targets)\n",
    "\n",
    "        return logits, loss\n",
    "\n",
    "    def generate(self, idx, max_new_tokens):\n",
    "        # idx is (B, T) array of indices in the current context\n",
    "        for _ in range(max_new_tokens):\n",
    "            # crop idx to the last block_size tokens, otherwise things will explode\n",
    "            idx_cond = idx[:, -block_size:]\n",
    "            # get the predictions\n",
    "            logits, loss = self(idx_cond)\n",
    "            # focus only on the last time step\n",
    "            logits = logits[:, -1, :]  # (B, T, C=vocab_size) becomes (B, C=vocab_size)\n",
    "            # apply softmax to get probabilities\n",
    "            probs = F.softmax(logits, dim=-1)  # (B, C=vocab_size)\n",
    "            # sample from the multinomial distribution\n",
    "            idx_next = torch.multinomial(probs, num_samples=1)  # (B, 1)\n",
    "            # append sampled index to the running sequence\n",
    "            idx = torch.cat((idx, idx_next), dim=1)  # (B, T+1)\n",
    "        return idx\n",
    "\n",
    "\n",
    "model = BigramLanguageModel()\n",
    "m = model.to(device)\n",
    "# print the number of parameters in the model\n",
    "print(sum(p.numel() for p in m.parameters()) / 1e6, 'M parameters')\n",
    "\n",
    "# create a PyTorch optimizer\n",
    "# https://www.ruder.io/optimizing-gradient-descent/#adam\n",
    "# https://iclr-blogposts.github.io/2023/blog/2023/adamw/\n",
    "optimizer = torch.optim.AdamW(model.parameters(), lr=learning_rate)\n",
    "\n",
    "for iter in range(max_iters):\n",
    "\n",
    "    # every once in a while evaluate the loss on train and val sets\n",
    "    if iter % eval_interval == 0 or iter == max_iters - 1:\n",
    "        losses = estimate_loss()\n",
    "        print(f\"step {iter}: train loss {losses['train']:.4f}, val loss {losses['val']:.4f}\")\n",
    "\n",
    "    # sample a batch of data\n",
    "    xb, yb = get_batch('train')\n",
    "\n",
    "    # evaluate the loss\n",
    "    logits, loss = model(xb, yb)\n",
    "    optimizer.zero_grad(set_to_none=True)\n",
    "    loss.backward()\n",
    "    optimizer.step()\n",
    "\n",
    "# generate from the model\n",
    "context = torch.zeros((1, 1), dtype=torch.long, device=device)\n",
    "print(decode(m.generate(context, max_new_tokens=2000)[0].tolist()))\n",
    "# Temperature motivation https://en.wikipedia.org/wiki/LogSumExp\n",
    "# What happens when you divide logits by posite Temp and then do softmax\n",
    "# Temp close to 0 is max in limit, one hot, Temp >> 1 in limit random"
   ]
  },
  {
   "cell_type": "code",
   "execution_count": 39,
   "metadata": {
    "ExecuteTime": {
     "end_time": "2024-04-18T13:45:18.731302Z",
     "start_time": "2024-04-18T13:45:16.626372Z"
    },
    "id": "fjjvMifYZf7x",
    "lines_to_next_cell": 2
   },
   "outputs": [
    {
     "ename": "NameError",
     "evalue": "name 'model_history' is not defined",
     "output_type": "error",
     "traceback": [
      "\u001B[0;31m---------------------------------------------------------------------------\u001B[0m",
      "\u001B[0;31mNameError\u001B[0m                                 Traceback (most recent call last)",
      "Cell \u001B[0;32mIn[39], line 6\u001B[0m\n\u001B[1;32m      4\u001B[0m \u001B[38;5;28;01mfrom\u001B[39;00m \u001B[38;5;21;01mtorchview\u001B[39;00m \u001B[38;5;28;01mimport\u001B[39;00m draw_graph\n\u001B[1;32m      5\u001B[0m \u001B[38;5;28;01mimport\u001B[39;00m \u001B[38;5;21;01mtorchlens\u001B[39;00m \u001B[38;5;28;01mas\u001B[39;00m \u001B[38;5;21;01mtl\u001B[39;00m\n\u001B[0;32m----> 6\u001B[0m \u001B[38;5;28;01mdel\u001B[39;00m model_history\n\u001B[1;32m      8\u001B[0m \u001B[38;5;66;03m# device='meta' -> no memory is consumed for visualization\u001B[39;00m\n\u001B[1;32m      9\u001B[0m \u001B[38;5;28mprint\u001B[39m(xb\u001B[38;5;241m.\u001B[39mshape)\n",
      "\u001B[0;31mNameError\u001B[0m: name 'model_history' is not defined"
     ]
    }
   ],
   "source": [
    "# https://github.com/szagoruyko/pytorchviz\n",
    "# https://github.com/mert-kurttutan/torchview nicer graph\n",
    "# https://github.com/mert-kurttutan/torchview\n",
    "from torchview import draw_graph\n",
    "import torchlens as tl\n",
    "\n",
    "# device='meta' -> no memory is consumed for visualization\n",
    "print(xb.shape)\n",
    "print(yb.shape)\n",
    "model_graph = draw_graph(model, input_data=(xb, yb), device='cuda')\n",
    "model_graph.visual_graph\n",
    "\n",
    "# model_history = tl.log_forward_pass(model, (xb, yb)\n",
    "#                                      , layers_to_save='all', vis_opt='unrolled')\n",
    "# print(model_history)"
   ]
  },
  {
   "cell_type": "code",
   "execution_count": 37,
   "metadata": {},
   "outputs": [
    {
     "name": "stdout",
     "output_type": "stream",
     "text": [
      "\n",
      "City and by his warms, went's scomptude, that\n",
      "till ragge untong-make's.' But, what a determy, thou\n",
      "faintors, you attend underpt my mother.\n",
      "\n",
      "Second Men, an well.\n",
      "Come I mean as thing once with I recond this;\n",
      "And I may of looks to a plenity,\n",
      "And fears 'free and joy myself,\n",
      "When gazes liege titles wise and my restraint.\n",
      "\n",
      "KING EDWARD IV:\n",
      "Whoel, she was this head.\n",
      "\n",
      "DUKE OF YORK:\n",
      "Then frame thyself? for he forth and in this.\n",
      "Were commend in the fiends, o' the voice\n",
      "My mother counsished, to two Ely; the counter\n",
      "That I do. So an ever maid in beast plots.\n",
      "\n",
      "DUKE O FRIZWIIC John:\n",
      "Upon thine is kind; too, Tower; thou dust baldgiant\n",
      "And dost happille to the poore's doin work her,\n",
      "Marriabe.\n",
      "\n",
      "BENVOLIO:\n",
      "If ends ye.\n",
      "\n",
      "SICINIUS:\n",
      "Good love I had unto conveys,\n",
      "To my sovereign i' the dove me.\n",
      "\n",
      "HENRY BOLINGHAM:\n",
      "Were glast you shall be as the cannot both:\n",
      "Thou art me in my consent until thee,\n",
      "Or thee to direct against partiest;\n",
      "But! seeing she parks of cross on me age good\n",
      "So queen will answering doth chase, letter.\n",
      "So, that you on my lady.\n",
      "\n",
      "DUKE OF AUMERLE:\n",
      "No fellow and Romeo Edward, willingly of God,\n",
      "And Bonding when the sistern he widow;\n",
      "For hung else hour tope head up this converses!\n",
      "Away she, who is, I'll same of brought,\n",
      "Art should, that now their father?\n",
      "\n",
      "POMPEY:\n",
      "Sicile you will: have you were not speak to the blot,\n",
      "Disself that winder my lady me.\n",
      "and loya 'twas your field this fathes,\n",
      "I shall my fortune joys and I cit thou are;\n",
      "Then wounds speak them not speak.\n",
      "If God, my lord, as it is this many coundation,\n",
      "For and crowned the acce.\n",
      "\n",
      "MENENIUS:\n",
      "Way, pardon, his patience;\n",
      "Will give and we may bring you disdain's basters.\n",
      "You threw attailymy. Go traitor were.\n",
      "\n",
      "SARMIANA:\n",
      "Not before; mannish wife?\n",
      "\n",
      "COMINIUS:\n",
      "Lift--\n",
      "\n",
      "GLOUCESTER:\n",
      "Why villain again, I'll make you misber in tent\n",
      "Redly, listeen heath will his us were of senate\n",
      "Is no amient look'd yet a little.\n",
      "\n",
      "MENENIUS:\n",
      "I did his body throwed of this?\n",
      "\n",
      "Page:\n",
      "My womb, Edward house will and deserve it.\n",
      "\n",
      "LEONTES:\n",
      "It you it do.\n",
      "\n",
      "DUKE VINCENTI\n"
     ]
    }
   ],
   "source": [
    "# generate from the model\n",
    "context = torch.zeros((1, 1), dtype=torch.long, device=device)\n",
    "print(decode(model.generate(context, max_new_tokens=2000)[0].tolist()))"
   ]
  },
  {
   "cell_type": "code",
   "execution_count": null,
   "metadata": {},
   "outputs": [],
   "source": []
  }
 ],
 "metadata": {
  "colab": {
   "provenance": []
  },
  "jupytext": {
   "formats": "ipynb,py:percent"
  },
  "kernelspec": {
   "display_name": "Python 3",
   "language": "python",
   "name": "python3"
  },
  "language_info": {
   "codemirror_mode": {
    "name": "ipython",
    "version": 3
   },
   "file_extension": ".py",
   "mimetype": "text/x-python",
   "name": "python",
   "nbconvert_exporter": "python",
   "pygments_lexer": "ipython3",
   "version": "3.11.7"
  }
 },
 "nbformat": 4,
 "nbformat_minor": 4
}
