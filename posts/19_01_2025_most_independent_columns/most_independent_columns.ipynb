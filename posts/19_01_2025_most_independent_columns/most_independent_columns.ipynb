{
 "cells": [
  {
   "cell_type": "raw",
   "id": "5181a45f6a7215aa",
   "metadata": {},
   "source": [
    "---\n",
    "title: \"Most independent subset selection\"\n",
    "author: \"Andrej Muhic\"\n",
    "date: \"2025-01-19\"\n",
    "draft: false\n",
    "categories: [Linear Algebra, Numerical Linear Algebra]\n",
    "format:\n",
    "  html:\n",
    "    code-fold: false\n",
    "    code-tools: true\n",
    "---"
   ]
  },
  {
   "cell_type": "markdown",
   "id": "1df6fcb5-2afa-4f6f-a0f3-5af956e2a07a",
   "metadata": {
    "ExecuteTime": {
     "end_time": "2024-05-29T09:17:08.327263Z",
     "start_time": "2024-05-29T09:17:08.319290Z"
    }
   },
   "source": [
    "## Subset selection using SVD\n",
    "Do you want to find the most independent subset of columns of a matrix? This can be useful for example for determining independent subset of exogenous variables, or catching an error when adding a column that is a liner combination of remaining ones. The most general formulation of this would involve checking all size $k$ subsets of columns. Luckily there is a simple heuristics, which works well for badly conditioned matrices, see Golub et al, Matrix Computations.\n",
    "Surprisingly enough the very good approximation can be obtained with following pretty straightforward procedure:\n",
    "\n",
    "1. Compute svd decomposition, $A= U S V^H$\n",
    "2. Determine rank estimate $r \\leq \\texttt{rank}(A)$\n",
    "3. Set $V_r = V[:, 0:r]^H$ and compute QR with column pivoting $Q^H V_r P = \\begin{bmatrix}R_{11} & R_{12} \\end{bmatrix}$\n",
    "4. Set $A P = \\begin{bmatrix} B_1 & B_2 \\end{bmatrix}$ and partition $P = \\begin{bmatrix} P_1 & P_2\\end{bmatrix},$ where $P_1$ represents \"the most independent\" columns in sense that this corresponds to heuristic that QR with pivoting produces well conditioned $R_{11}.$\n"
   ]
  },
  {
   "cell_type": "markdown",
   "id": "7f5462aa40a778e",
   "metadata": {},
   "source": [
    "### Python implementation"
   ]
  },
  {
   "cell_type": "code",
   "execution_count": 52,
   "id": "08c6ccf9-df4b-4397-9273-1e24ef46852c",
   "metadata": {
    "ExecuteTime": {
     "end_time": "2025-01-19T21:46:04.729780Z",
     "start_time": "2025-01-19T21:46:04.719249Z"
    }
   },
   "outputs": [],
   "source": [
    "from numpy import asarray, count_nonzero\n",
    "from typing import Iterable\n",
    "import numpy as np\n",
    "import scipy\n",
    "\n",
    "def determine_independent_subset(A: np.ndarray) -> Iterable:\n",
    "\n",
    "    U, S, VH = np.linalg.svd(A, compute_uv=True)\n",
    "\n",
    "    def compute_rank(S: np.ndarray, tol: float | None = None):\n",
    "        # Provide tol if you have some prior on the problem\n",
    "        # Singular values <= tol are considered 0\n",
    "        if tol is None:\n",
    "            tol = S.max(axis=-1, keepdims=True) * (\n",
    "                    max(A.shape[-2:]) * np.finfo(S.dtype).eps)\n",
    "        else:\n",
    "            tol = asarray(tol)[..., np.newaxis]\n",
    "        return count_nonzero(S > tol, axis=-1)\n",
    "\n",
    "    r = compute_rank(S)\n",
    "    Vr = VH[0:r, :]\n",
    "    Q, R, P = scipy.linalg.qr(Vr, pivoting=True, mode='full')\n",
    "    return P[0:r]"
   ]
  },
  {
   "cell_type": "code",
   "execution_count": 55,
   "id": "fbe87e3a030f8b0e",
   "metadata": {
    "ExecuteTime": {
     "end_time": "2025-01-19T21:56:25.444107Z",
     "start_time": "2025-01-19T21:56:25.436871Z"
    }
   },
   "outputs": [
    {
     "name": "stdout",
     "output_type": "stream",
     "text": [
      "[2 1]\n"
     ]
    }
   ],
   "source": [
    "A = np.array([[1,2, 3], [1, 2, 3],[1, 2, 4]])\n",
    "s = determine_independent_subset(A)\n",
    "print(s)"
   ]
  }
 ],
 "metadata": {
  "kernelspec": {
   "display_name": "Python 3",
   "language": "python",
   "name": "python3"
  },
  "language_info": {
   "codemirror_mode": {
    "name": "ipython",
    "version": 3
   },
   "file_extension": ".py",
   "mimetype": "text/x-python",
   "name": "python",
   "nbconvert_exporter": "python",
   "pygments_lexer": "ipython3",
   "version": "3.11.7"
  }
 },
 "nbformat": 4,
 "nbformat_minor": 5
}
