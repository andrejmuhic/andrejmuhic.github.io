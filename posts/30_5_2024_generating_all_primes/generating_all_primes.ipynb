{
 "cells": [
  {
   "cell_type": "raw",
   "id": "5181a45f6a7215aa",
   "metadata": {},
   "source": [
    "---\n",
    "title: \"Formula that generates all primes\"\n",
    "author: \"Andrej Muhic\"\n",
    "date: \"2024-05-30\"\n",
    "categories: [Algebra, Number Theory]\n",
    "image: \"prime_numbers.jpg\"\n",
    "format:\n",
    "  html:\n",
    "    code-fold: false\n",
    "    code-tools: true\n",
    "---"
   ]
  },
  {
   "cell_type": "markdown",
   "id": "1df6fcb5-2afa-4f6f-a0f3-5af956e2a07a",
   "metadata": {
    "ExecuteTime": {
     "end_time": "2024-05-29T09:17:08.327263Z",
     "start_time": "2024-05-29T09:17:08.319290Z"
    }
   },
   "source": [
    "Fun fact, one possible formula that generates all primes, $2$ many times is:\n",
    "$$2+\\left( (2 \\times  (n-1)!) \\bmod n \\right)$$\n",
    "Prime numbers are numbers that have only $1$ and itself as divisors like, $2, 3, 5, 7, 11, \\dots.$\n",
    "Sadly formula is very inefficient and there are a lot more efficient algorithms to check if $n$ is prime. Maybe story for another time.\n",
    "Mod n operator computes the remainder of target number when doing the division by n, like $14 \\mod 5 = 4$ as $14 = 2 \\times 5 + 4.$"
   ]
  },
  {
   "cell_type": "markdown",
   "id": "53d38628-ed2a-4658-953d-089106aa29a8",
   "metadata": {},
   "source": [
    "## Proof using Wilson's theorem\n",
    "One possible but boring way of proving this is just by using the Wilson's theorem directly, which says that:\n",
    "$$ (n-1)! + 1 \\mod n = 0 \\Leftrightarrow n \\texttt{ is a prime} \\Leftrightarrow (n-1)! \\mod n = n-1 \\mod n = -1.$$\n",
    "\n",
    "Let us expand, when $n=p$ and $p$ is a prime:\n",
    "$$\\left(2 \\times  (n-1)! \\bmod n \\right) = \\left(2 \\times  (p-1)! \\bmod p \\right) = -2 \\mod p = p - 2.$$\n",
    "Thus for the above we end up with $2 + (p-2) = p$ if $p$ is a prime.\n",
    "\n",
    "If $n$ is not a prime and even, then $(n-1)!$ has a factor $\\frac{n}{2}$ and thus $2 \\times (n-1)! \\mod n = 0 \\neq -2 \\mod n$\n",
    "\n",
    "If $n = 2 \\times k + 1$ is not a prime and odd, $n = a \\times b, \\; a \\leq b,$ then $a, b$ are one of the factors in $2(n-1)!$ and $2 \\times (n-1)! \\mod n = 0 \\neq -2 \\mod n$\n",
    "\n",
    "As a note even if $a=b$ then $a=(a+1-1)$ is a direct factor and at least one another one is $a=2\\frac{(a+1-1)}{2}$ or $2a = (2a+1-1).$"
   ]
  },
  {
   "cell_type": "markdown",
   "id": "7a202543-dd82-4505-a2cb-1f999f6bfb59",
   "metadata": {},
   "source": [
    "## Wilson's theorem from scratch\n",
    "I find this one much more enjoyable as it does not require Galois theory results. Let us define the polynomial on the ring $Z_n$:\n",
    "$$q(x) = (x-1) (x-2) \\cdot (x - (n-1)) + 1.$$\n",
    "This polynomial is trivially $0$ for $x = 1, \\dots (n-1).$\n",
    "For $x=n,$ $q(n) = (n-1)! + 1.$ If $n$ is a prime, then product of invertible elements is $-1=p-1 \\mod p.$ Why? \n",
    "The product of $z \\times z^{-1} = 1$ and the only elements which inverse is the element itself are the solutions of $z^2 = 1 \\mod p,$ which is equivalent to $(z-1)(z+1) = 0 \\mod p.$ As $p$ is the prime number that means the only solutions are $z=1$ or $z=-1.$ This means that the product of invertible elements is exactly $-1 \\mod p$ as desired, when $p$ is prime.\n",
    "\n",
    "Let us prove that if $n$ is not a prime it cannot divide $(n-1)! + 1.$\n",
    "This means we can write $n = a \\times b \\; \\texttt{ where } a\\geq 2,\\; b \\geq 2.$ We can actually apply the reasoning from the first part.\n",
    "$$\\texttt{QED}$$"
   ]
  },
  {
   "cell_type": "markdown",
   "id": "358200fa7c630d9b",
   "metadata": {},
   "source": [
    "The [picture](https://commons.wikimedia.org/wiki/File:Prime-numbers_01.jpg) source is used under [Creative commons license](https://creativecommons.org/licenses/by-sa/4.0/deed.en)."
   ]
  },
  {
   "cell_type": "markdown",
   "id": "7f5462aa40a778e",
   "metadata": {},
   "source": [
    "### Python modestly optimized implementation"
   ]
  },
  {
   "cell_type": "code",
   "execution_count": 1,
   "id": "08c6ccf9-df4b-4397-9273-1e24ef46852c",
   "metadata": {
    "ExecuteTime": {
     "end_time": "2024-05-30T19:36:36.072923Z",
     "start_time": "2024-05-30T19:36:36.067905Z"
    }
   },
   "outputs": [],
   "source": [
    "def generate_primes(n: int) -> int:\n",
    "    \"\"\"\n",
    "    :param n: \n",
    "    :return: if n is prime, function will return n, otherwise 2\n",
    "    \"\"\"\n",
    "    # compute (n-1)! using mod n to avoid complexity\n",
    "    n_minus_1_factorial = 1\n",
    "    for i in range(2, n):\n",
    "        n_minus_1_factorial = n_minus_1_factorial * i\n",
    "        n_minus_1_factorial = n_minus_1_factorial % n\n",
    "    return 2 + ((2 * n_minus_1_factorial) % n)"
   ]
  },
  {
   "cell_type": "code",
   "execution_count": 2,
   "id": "82866e7c-c92d-44c5-bb1f-a6c627b5f26f",
   "metadata": {},
   "outputs": [
    {
     "data": {
      "text/plain": [
       "(17, 2, 97)"
      ]
     },
     "execution_count": 2,
     "metadata": {},
     "output_type": "execute_result"
    }
   ],
   "source": [
    "generate_primes(17), generate_primes(90), generate_primes(97)"
   ]
  }
 ],
 "metadata": {
  "kernelspec": {
   "display_name": "Python 3",
   "language": "python",
   "name": "python3"
  },
  "language_info": {
   "codemirror_mode": {
    "name": "ipython",
    "version": 3
   },
   "file_extension": ".py",
   "mimetype": "text/x-python",
   "name": "python",
   "nbconvert_exporter": "python",
   "pygments_lexer": "ipython3",
   "version": "3.11.7"
  }
 },
 "nbformat": 4,
 "nbformat_minor": 5
}
